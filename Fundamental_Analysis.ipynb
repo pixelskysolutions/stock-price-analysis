{
 "cells": [
  {
   "cell_type": "code",
   "execution_count": 1,
   "id": "12c2a166-c134-408a-bb25-55aefec64ea6",
   "metadata": {},
   "outputs": [
    {
     "name": "stdout",
     "output_type": "stream",
     "text": [
      "pandas 2.3.2\n",
      "numpy 2.3.3\n",
      "yfinance OK\n"
     ]
    }
   ],
   "source": [
    "import pandas, numpy, yfinance\n",
    "print(\"pandas\", pandas.__version__)\n",
    "print(\"numpy\", numpy.__version__)\n",
    "print(\"yfinance OK\")"
   ]
  },
  {
   "cell_type": "code",
   "execution_count": null,
   "id": "2dee3201-112b-4280-a210-d88e9f32f457",
   "metadata": {},
   "outputs": [],
   "source": []
  }
 ],
 "metadata": {
  "kernelspec": {
   "display_name": "Python 3 (ipykernel)",
   "language": "python",
   "name": "python3"
  },
  "language_info": {
   "codemirror_mode": {
    "name": "ipython",
    "version": 3
   },
   "file_extension": ".py",
   "mimetype": "text/x-python",
   "name": "python",
   "nbconvert_exporter": "python",
   "pygments_lexer": "ipython3",
   "version": "3.11.1"
  }
 },
 "nbformat": 4,
 "nbformat_minor": 5
}
