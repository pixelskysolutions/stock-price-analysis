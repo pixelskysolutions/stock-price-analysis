{
 "cells": [
  {
   "cell_type": "code",
   "execution_count": 40,
   "id": "16a81541-184c-4995-9c07-53dbfa6b8323",
   "metadata": {},
   "outputs": [],
   "source": [
    "## 🧩 Project Overview\n",
    "# In this project, we build a **modular ML pipeline** for financial data, enabling rapid testing of multiple models \n",
    "# (Logistic Regression, Random Forest, Gradient Boosting).  \n",
    "# The goal is to streamline feature engineering, model evaluation, and result visualization — \n",
    "# forming a reusable base for future **quant trading, risk modeling, and forecasting** systems."
   ]
  },
  {
   "cell_type": "code",
   "execution_count": 1,
   "id": "85dea7e0-d139-4561-a751-565d108e89b1",
   "metadata": {},
   "outputs": [],
   "source": [
    "# =============================================\n",
    "# Phase 2 Module 5 - Machine Learning for Finance\n",
    "# Project 3: ML Pipeline for Financial Data\n",
    "# =============================================\n",
    "# Author: Rein | Pixel Sky Solutions\n",
    "# Course: Python–Finance Master Plan\n",
    "# ---------------------------------------------\n",
    "# Objective:\n",
    "# Build a reusable pipeline to automate the workflow:\n",
    "# data cleaning → feature engineering → model training → evaluation → reporting\n",
    "# ---------------------------------------------\n",
    "# Tools: pandas, numpy, sklearn, matplotlib\n",
    "# ============================================="
   ]
  },
  {
   "cell_type": "code",
   "execution_count": 2,
   "id": "9330bd2a-8cf6-408e-846b-256f92cd9d46",
   "metadata": {},
   "outputs": [],
   "source": [
    "# 1️⃣ Setup & Imports"
   ]
  },
  {
   "cell_type": "code",
   "execution_count": 52,
   "id": "6b88b1a5-8513-4c6e-88d1-dedd88a65196",
   "metadata": {},
   "outputs": [
    {
     "name": "stdout",
     "output_type": "stream",
     "text": [
      "Python 3.11.1 | pandas 2.3.2 | scikit-learn 1.7.2\n"
     ]
    }
   ],
   "source": [
    "# Core Libraries\n",
    "import pandas as pd\n",
    "import numpy as np\n",
    "import matplotlib.pyplot as plt\n",
    "import seaborn as sns\n",
    "import sklearn, sys\n",
    "print(f\"Python {sys.version.split()[0]} | pandas {pd.__version__} | scikit-learn {sklearn.__version__}\")"
   ]
  },
  {
   "cell_type": "code",
   "execution_count": 4,
   "id": "bdb8bc41-7794-48f5-b40c-5ee804b56c63",
   "metadata": {},
   "outputs": [],
   "source": [
    "# Scikit-learn tools\n",
    "from sklearn.model_selection import train_test_split, GridSearchCV\n",
    "from sklearn.preprocessing import StandardScaler, OneHotEncoder\n",
    "from sklearn.compose import ColumnTransformer\n",
    "from sklearn.pipeline import Pipeline\n",
    "from sklearn.metrics import accuracy_score, roc_auc_score, classification_report"
   ]
  },
  {
   "cell_type": "code",
   "execution_count": 5,
   "id": "4b58c526-af7d-4f76-969e-13369267266b",
   "metadata": {},
   "outputs": [],
   "source": [
    "# Models\n",
    "from sklearn.linear_model import LogisticRegression\n",
    "from sklearn.ensemble import RandomForestClassifier, GradientBoostingClassifier"
   ]
  },
  {
   "cell_type": "code",
   "execution_count": 6,
   "id": "301cfc2e-f452-421d-b9bc-31b957ef7bd8",
   "metadata": {},
   "outputs": [],
   "source": [
    "# Utility\n",
    "import warnings\n",
    "warnings.filterwarnings('ignore')"
   ]
  },
  {
   "cell_type": "code",
   "execution_count": 7,
   "id": "9484414a-7223-442d-96a3-af1521a2d57a",
   "metadata": {},
   "outputs": [],
   "source": [
    "plt.style.use('seaborn-v0_8')"
   ]
  },
  {
   "cell_type": "code",
   "execution_count": 8,
   "id": "4dc47d61-2a0c-4445-9ce2-e5915cb5c58b",
   "metadata": {},
   "outputs": [],
   "source": [
    "# 2️⃣ Load Example Financial Dataset\n",
    "\n",
    "# For demonstration, we’ll use your existing file market_data.csv\n",
    "# (You can later swap it with any similar structured dataset — credit data, macro signals, etc.)"
   ]
  },
  {
   "cell_type": "code",
   "execution_count": 9,
   "id": "4e5a50b2-adb2-47a8-8e2a-1826afb63fac",
   "metadata": {},
   "outputs": [
    {
     "data": {
      "text/html": [
       "<div>\n",
       "<style scoped>\n",
       "    .dataframe tbody tr th:only-of-type {\n",
       "        vertical-align: middle;\n",
       "    }\n",
       "\n",
       "    .dataframe tbody tr th {\n",
       "        vertical-align: top;\n",
       "    }\n",
       "\n",
       "    .dataframe thead th {\n",
       "        text-align: right;\n",
       "    }\n",
       "</style>\n",
       "<table border=\"1\" class=\"dataframe\">\n",
       "  <thead>\n",
       "    <tr style=\"text-align: right;\">\n",
       "      <th></th>\n",
       "      <th>date</th>\n",
       "      <th>Ticker</th>\n",
       "      <th>open</th>\n",
       "      <th>high</th>\n",
       "      <th>low</th>\n",
       "      <th>close</th>\n",
       "      <th>volume</th>\n",
       "    </tr>\n",
       "  </thead>\n",
       "  <tbody>\n",
       "    <tr>\n",
       "      <th>0</th>\n",
       "      <td>2023-10-11</td>\n",
       "      <td>AAPL</td>\n",
       "      <td>176.471483</td>\n",
       "      <td>178.105487</td>\n",
       "      <td>175.877312</td>\n",
       "      <td>178.055969</td>\n",
       "      <td>47551100</td>\n",
       "    </tr>\n",
       "    <tr>\n",
       "      <th>1</th>\n",
       "      <td>2023-10-12</td>\n",
       "      <td>AAPL</td>\n",
       "      <td>178.323347</td>\n",
       "      <td>180.571317</td>\n",
       "      <td>177.303324</td>\n",
       "      <td>178.957138</td>\n",
       "      <td>56743100</td>\n",
       "    </tr>\n",
       "    <tr>\n",
       "      <th>2</th>\n",
       "      <td>2023-10-13</td>\n",
       "      <td>AAPL</td>\n",
       "      <td>179.660252</td>\n",
       "      <td>180.165300</td>\n",
       "      <td>176.412069</td>\n",
       "      <td>177.115189</td>\n",
       "      <td>51427100</td>\n",
       "    </tr>\n",
       "    <tr>\n",
       "      <th>3</th>\n",
       "      <td>2023-10-16</td>\n",
       "      <td>AAPL</td>\n",
       "      <td>175.035543</td>\n",
       "      <td>177.342944</td>\n",
       "      <td>174.797865</td>\n",
       "      <td>176.986435</td>\n",
       "      <td>52517000</td>\n",
       "    </tr>\n",
       "    <tr>\n",
       "      <th>4</th>\n",
       "      <td>2023-10-17</td>\n",
       "      <td>AAPL</td>\n",
       "      <td>174.936521</td>\n",
       "      <td>176.689357</td>\n",
       "      <td>173.104475</td>\n",
       "      <td>175.431671</td>\n",
       "      <td>57549400</td>\n",
       "    </tr>\n",
       "  </tbody>\n",
       "</table>\n",
       "</div>"
      ],
      "text/plain": [
       "         date Ticker        open        high         low       close    volume\n",
       "0  2023-10-11   AAPL  176.471483  178.105487  175.877312  178.055969  47551100\n",
       "1  2023-10-12   AAPL  178.323347  180.571317  177.303324  178.957138  56743100\n",
       "2  2023-10-13   AAPL  179.660252  180.165300  176.412069  177.115189  51427100\n",
       "3  2023-10-16   AAPL  175.035543  177.342944  174.797865  176.986435  52517000\n",
       "4  2023-10-17   AAPL  174.936521  176.689357  173.104475  175.431671  57549400"
      ]
     },
     "execution_count": 9,
     "metadata": {},
     "output_type": "execute_result"
    }
   ],
   "source": [
    "# Load and preview\n",
    "data = pd.read_csv(\"market_data.csv\")\n",
    "data.head()"
   ]
  },
  {
   "cell_type": "code",
   "execution_count": 14,
   "id": "b0128c4f-e0be-4953-8389-ba82ff8163a6",
   "metadata": {},
   "outputs": [],
   "source": [
    "# 3️⃣ Create Synthetic Target Variable: 'target_return'"
   ]
  },
  {
   "cell_type": "code",
   "execution_count": 45,
   "id": "fb0bc3a2-333d-4013-91a7-e78780971bca",
   "metadata": {},
   "outputs": [],
   "source": [
    "def create_target(df, price_col='close', horizon=1):\n",
    "    \"\"\"Create binary target based on next-day returns.\"\"\"\n",
    "    df = df.copy()\n",
    "    df['daily_return'] = df[price_col].pct_change()\n",
    "    df['target_return'] = (df['daily_return'].shift(-horizon) > 0).astype(int)\n",
    "    df = df.dropna(subset=['daily_return', 'target_return'])\n",
    "    return df"
   ]
  },
  {
   "cell_type": "code",
   "execution_count": 48,
   "id": "361dea84-95fd-4b54-840e-5d115d7f6eaf",
   "metadata": {},
   "outputs": [],
   "source": [
    "data = create_target(data, price_col='close', horizon=1)"
   ]
  },
  {
   "cell_type": "code",
   "execution_count": 49,
   "id": "3bdeb309-07b6-43c4-8c14-958d29e350be",
   "metadata": {},
   "outputs": [
    {
     "name": "stdout",
     "output_type": "stream",
     "text": [
      "[INFO] Added 'daily_return' and 'target_return' columns. Data shape: (2006, 9)\n"
     ]
    },
    {
     "data": {
      "text/html": [
       "<div>\n",
       "<style scoped>\n",
       "    .dataframe tbody tr th:only-of-type {\n",
       "        vertical-align: middle;\n",
       "    }\n",
       "\n",
       "    .dataframe tbody tr th {\n",
       "        vertical-align: top;\n",
       "    }\n",
       "\n",
       "    .dataframe thead th {\n",
       "        text-align: right;\n",
       "    }\n",
       "</style>\n",
       "<table border=\"1\" class=\"dataframe\">\n",
       "  <thead>\n",
       "    <tr style=\"text-align: right;\">\n",
       "      <th></th>\n",
       "      <th>date</th>\n",
       "      <th>Ticker</th>\n",
       "      <th>open</th>\n",
       "      <th>high</th>\n",
       "      <th>low</th>\n",
       "      <th>close</th>\n",
       "      <th>volume</th>\n",
       "      <th>daily_return</th>\n",
       "      <th>target_return</th>\n",
       "    </tr>\n",
       "  </thead>\n",
       "  <tbody>\n",
       "    <tr>\n",
       "      <th>1004</th>\n",
       "      <td>2023-10-11</td>\n",
       "      <td>TSLA</td>\n",
       "      <td>266.200012</td>\n",
       "      <td>268.600006</td>\n",
       "      <td>260.899994</td>\n",
       "      <td>262.989990</td>\n",
       "      <td>103706300</td>\n",
       "      <td>-0.381677</td>\n",
       "      <td>1</td>\n",
       "    </tr>\n",
       "    <tr>\n",
       "      <th>502</th>\n",
       "      <td>2023-10-11</td>\n",
       "      <td>MSFT</td>\n",
       "      <td>326.292805</td>\n",
       "      <td>327.878919</td>\n",
       "      <td>324.253560</td>\n",
       "      <td>327.484863</td>\n",
       "      <td>20063200</td>\n",
       "      <td>0.245237</td>\n",
       "      <td>0</td>\n",
       "    </tr>\n",
       "    <tr>\n",
       "      <th>1005</th>\n",
       "      <td>2023-10-12</td>\n",
       "      <td>TSLA</td>\n",
       "      <td>262.920013</td>\n",
       "      <td>265.410004</td>\n",
       "      <td>256.630005</td>\n",
       "      <td>258.869995</td>\n",
       "      <td>111508100</td>\n",
       "      <td>-0.209521</td>\n",
       "      <td>1</td>\n",
       "    </tr>\n",
       "    <tr>\n",
       "      <th>1507</th>\n",
       "      <td>2023-10-12</td>\n",
       "      <td>SPY</td>\n",
       "      <td>425.941772</td>\n",
       "      <td>426.321931</td>\n",
       "      <td>420.365877</td>\n",
       "      <td>422.734650</td>\n",
       "      <td>81154200</td>\n",
       "      <td>0.633000</td>\n",
       "      <td>0</td>\n",
       "    </tr>\n",
       "    <tr>\n",
       "      <th>1</th>\n",
       "      <td>2023-10-12</td>\n",
       "      <td>AAPL</td>\n",
       "      <td>178.323347</td>\n",
       "      <td>180.571317</td>\n",
       "      <td>177.303324</td>\n",
       "      <td>178.957138</td>\n",
       "      <td>56743100</td>\n",
       "      <td>-0.576668</td>\n",
       "      <td>1</td>\n",
       "    </tr>\n",
       "  </tbody>\n",
       "</table>\n",
       "</div>"
      ],
      "text/plain": [
       "           date Ticker        open        high         low       close  \\\n",
       "1004 2023-10-11   TSLA  266.200012  268.600006  260.899994  262.989990   \n",
       "502  2023-10-11   MSFT  326.292805  327.878919  324.253560  327.484863   \n",
       "1005 2023-10-12   TSLA  262.920013  265.410004  256.630005  258.869995   \n",
       "1507 2023-10-12    SPY  425.941772  426.321931  420.365877  422.734650   \n",
       "1    2023-10-12   AAPL  178.323347  180.571317  177.303324  178.957138   \n",
       "\n",
       "         volume  daily_return  target_return  \n",
       "1004  103706300     -0.381677              1  \n",
       "502    20063200      0.245237              0  \n",
       "1005  111508100     -0.209521              1  \n",
       "1507   81154200      0.633000              0  \n",
       "1      56743100     -0.576668              1  "
      ]
     },
     "execution_count": 49,
     "metadata": {},
     "output_type": "execute_result"
    }
   ],
   "source": [
    "print(f\"[INFO] Added 'daily_return' and 'target_return' columns. Data shape: {data.shape}\")\n",
    "data.head(5)"
   ]
  },
  {
   "cell_type": "code",
   "execution_count": 47,
   "id": "76906c06-3c28-46a4-8859-e6446c716786",
   "metadata": {},
   "outputs": [],
   "source": [
    "# 4️⃣ Data Cleaning Function\n",
    "\n",
    "# Reusable cleaning function to handle missing values, types, and scaling."
   ]
  },
  {
   "cell_type": "code",
   "execution_count": 21,
   "id": "41dff41b-8d24-49d8-88bd-04572d94f1a5",
   "metadata": {},
   "outputs": [],
   "source": [
    "def clean_financial_data(df, target_col):\n",
    "    df = df.copy()\n",
    "    df = df.dropna(subset=[target_col])\n",
    "    df = df.fillna(df.median(numeric_only=True))\n",
    "    df = df.loc[:, ~df.columns.duplicated()]\n",
    "    return df"
   ]
  },
  {
   "cell_type": "code",
   "execution_count": 22,
   "id": "e769a204-1238-496b-bfc6-b800813ec35e",
   "metadata": {},
   "outputs": [],
   "source": [
    "# 5️⃣ Feature & Target Setup"
   ]
  },
  {
   "cell_type": "code",
   "execution_count": 23,
   "id": "164e953c-02cb-43e8-bf7f-d0b936d5249a",
   "metadata": {},
   "outputs": [],
   "source": [
    "target = 'target_return'  # example column\n",
    "features = [col for col in data.columns if col != target]\n",
    "\n",
    "df = clean_financial_data(data, target)\n",
    "X = df[features]\n",
    "y = df[target]"
   ]
  },
  {
   "cell_type": "code",
   "execution_count": 24,
   "id": "9fe85275-b56b-4c94-9983-8926c6dc6374",
   "metadata": {},
   "outputs": [],
   "source": [
    "# 6️⃣ Split Data"
   ]
  },
  {
   "cell_type": "code",
   "execution_count": 25,
   "id": "10456f42-223b-4728-8e6e-cf4fdb32f673",
   "metadata": {},
   "outputs": [],
   "source": [
    "X_train, X_test, y_train, y_test = train_test_split(X, y, test_size=0.2, random_state=42)"
   ]
  },
  {
   "cell_type": "code",
   "execution_count": 26,
   "id": "b5db242b-9168-4908-9ac7-b376e3772d7d",
   "metadata": {},
   "outputs": [],
   "source": [
    "# 7️⃣ Build ML Pipeline\n",
    "\n",
    "# We’ll use a flexible pipeline that can easily switch models."
   ]
  },
  {
   "cell_type": "code",
   "execution_count": 27,
   "id": "b16927b2-dae6-4530-bc18-a6cb4647bbb5",
   "metadata": {},
   "outputs": [],
   "source": [
    "numeric_features = X.select_dtypes(include=['int64','float64']).columns\n",
    "numeric_transformer = Pipeline(steps=[('scaler', StandardScaler())])\n",
    "\n",
    "preprocessor = ColumnTransformer(transformers=[('num', numeric_transformer, numeric_features)])\n",
    "\n",
    "models = {\n",
    "    \"Logistic Regression\": LogisticRegression(max_iter=1000),\n",
    "    \"Random Forest\": RandomForestClassifier(n_estimators=100, random_state=42),\n",
    "    \"Gradient Boosting\": GradientBoostingClassifier(random_state=42)\n",
    "}"
   ]
  },
  {
   "cell_type": "code",
   "execution_count": 28,
   "id": "c23e971a-19cb-4532-8a8a-2ab18cb5699b",
   "metadata": {},
   "outputs": [],
   "source": [
    "# 8️⃣ Train and Evaluate All Models"
   ]
  },
  {
   "cell_type": "code",
   "execution_count": 29,
   "id": "ef576dc9-f27e-4b9e-b535-42f4c63d922b",
   "metadata": {},
   "outputs": [
    {
     "data": {
      "text/html": [
       "<div>\n",
       "<style scoped>\n",
       "    .dataframe tbody tr th:only-of-type {\n",
       "        vertical-align: middle;\n",
       "    }\n",
       "\n",
       "    .dataframe tbody tr th {\n",
       "        vertical-align: top;\n",
       "    }\n",
       "\n",
       "    .dataframe thead th {\n",
       "        text-align: right;\n",
       "    }\n",
       "</style>\n",
       "<table border=\"1\" class=\"dataframe\">\n",
       "  <thead>\n",
       "    <tr style=\"text-align: right;\">\n",
       "      <th></th>\n",
       "      <th>AUC</th>\n",
       "      <th>Accuracy</th>\n",
       "    </tr>\n",
       "  </thead>\n",
       "  <tbody>\n",
       "    <tr>\n",
       "      <th>Gradient Boosting</th>\n",
       "      <td>0.782720</td>\n",
       "      <td>0.783582</td>\n",
       "    </tr>\n",
       "    <tr>\n",
       "      <th>Random Forest</th>\n",
       "      <td>0.780305</td>\n",
       "      <td>0.781095</td>\n",
       "    </tr>\n",
       "    <tr>\n",
       "      <th>Logistic Regression</th>\n",
       "      <td>0.774731</td>\n",
       "      <td>0.776119</td>\n",
       "    </tr>\n",
       "  </tbody>\n",
       "</table>\n",
       "</div>"
      ],
      "text/plain": [
       "                          AUC  Accuracy\n",
       "Gradient Boosting    0.782720  0.783582\n",
       "Random Forest        0.780305  0.781095\n",
       "Logistic Regression  0.774731  0.776119"
      ]
     },
     "execution_count": 29,
     "metadata": {},
     "output_type": "execute_result"
    }
   ],
   "source": [
    "results = {}\n",
    "\n",
    "for name, model in models.items():\n",
    "    pipe = Pipeline(steps=[('preprocessor', preprocessor), ('model', model)])\n",
    "    pipe.fit(X_train, y_train)\n",
    "    preds = pipe.predict(X_test)\n",
    "    auc = roc_auc_score(y_test, preds)\n",
    "    acc = accuracy_score(y_test, preds)\n",
    "    results[name] = {'AUC': auc, 'Accuracy': acc}\n",
    "\n",
    "pd.DataFrame(results).T.sort_values(by='AUC', ascending=False)"
   ]
  },
  {
   "cell_type": "code",
   "execution_count": 30,
   "id": "934d0bdf-0132-4bfc-89d7-8dd8875dd8ee",
   "metadata": {},
   "outputs": [],
   "source": [
    "# 9️⃣ Visualization — Model Performance"
   ]
  },
  {
   "cell_type": "code",
   "execution_count": 50,
   "id": "e12e0c05-477d-4d3b-ba52-698fb0b7c9ba",
   "metadata": {},
   "outputs": [
    {
     "data": {
      "image/png": "[encoded data removed]",
      "text/plain": [
       "<Figure size 800x500 with 1 Axes>"
      ]
     },
     "metadata": {},
     "output_type": "display_data"
    }
   ],
   "source": [
    "plt.figure(figsize=(8,5))\n",
    "ax = sns.barplot(x=result_df.index, y=result_df['AUC'], palette=\"viridis\")\n",
    "plt.title(\"Model Comparison (AUC)\", fontsize=14)\n",
    "plt.ylabel(\"AUC Score\")\n",
    "plt.xticks(rotation=20)\n",
    "for p in ax.patches:\n",
    "    ax.annotate(f\"{p.get_height():.3f}\", (p.get_x()+0.3, p.get_height()+0.005))\n",
    "plt.tight_layout()\n",
    "plt.savefig(\"charts/project3_model_comparison.png\", dpi=300)\n",
    "plt.show()"
   ]
  },
  {
   "cell_type": "code",
   "execution_count": 32,
   "id": "7720b2ec-44f8-441f-a32c-5e98cc441423",
   "metadata": {},
   "outputs": [],
   "source": [
    "# 🔟 Save Best Model (Reusable)"
   ]
  },
  {
   "cell_type": "code",
   "execution_count": 33,
   "id": "169f27e0-2bfd-4e32-b908-41e8956714af",
   "metadata": {},
   "outputs": [],
   "source": [
    "import joblib"
   ]
  },
  {
   "cell_type": "code",
   "execution_count": 51,
   "id": "976895ef-a49d-4b68-94f6-060c96698580",
   "metadata": {},
   "outputs": [],
   "source": [
    "metadata = {\n",
    "    \"best_model\": best_model_name,\n",
    "    \"AUC\": result_df.loc[best_model_name, 'AUC'],\n",
    "    \"Accuracy\": result_df.loc[best_model_name, 'Accuracy']\n",
    "}\n",
    "pd.Series(metadata).to_json(\"project3_metadata.json\")"
   ]
  },
  {
   "cell_type": "code",
   "execution_count": 36,
   "id": "bcdadb53-315e-4e36-9899-933ec77cad2a",
   "metadata": {},
   "outputs": [],
   "source": [
    "### 📊 Conclusion Summary\n",
    "\n",
    "# - Built a reusable end-to-end ML pipeline for financial datasets  \n",
    "# - Compared Logistic Regression, Random Forest, and Gradient Boosting  \n",
    "# - Evaluated each model using Accuracy and ROC-AUC  \n",
    "# - Saved the best-performing pipeline for future reuse  \n",
    "# - Visualization stored under: `/charts/project3_model_comparison.png`"
   ]
  },
  {
   "cell_type": "code",
   "execution_count": 38,
   "id": "937e09f3-7e46-4ce2-a906-498135460ef1",
   "metadata": {},
   "outputs": [],
   "source": [
    "### 💼 Business Interpretation\n",
    "\n",
    "# This ML pipeline automates the model lifecycle — ideal for financial analytics workflows such as:\n",
    "\n",
    "# - Credit risk scoring  \n",
    "# - Stock movement prediction  \n",
    "# - Macro indicator modeling  \n",
    "# - Fraud detection and anomaly monitoring  \n",
    "\n",
    "# The reusable pipeline accelerates experimentation and enforces consistency — \n",
    "# enabling analysts to focus on *signal quality*, not boilerplate code.\n",
    "\n",
    "# **Next Step:** Integrate this pipeline into the upcoming **Module 6 Backtesting Engine**, \n",
    "# where models’ predictive outputs will drive simulated trading or risk metrics."
   ]
  },
  {
   "cell_type": "code",
   "execution_count": null,
   "id": "6eeb8223-4220-4f35-be85-c3040d2d033b",
   "metadata": {},
   "outputs": [],
   "source": []
  }
 ],
 "metadata": {
  "kernelspec": {
   "display_name": "Python 3 (ipykernel)",
   "language": "python",
   "name": "python3"
  },
  "language_info": {
   "codemirror_mode": {
    "name": "ipython",
    "version": 3
   },
   "file_extension": ".py",
   "mimetype": "text/x-python",
   "name": "python",
   "nbconvert_exporter": "python",
   "pygments_lexer": "ipython3",
   "version": "3.11.1"
  }
 },
 "nbformat": 4,
 "nbformat_minor": 5
}
