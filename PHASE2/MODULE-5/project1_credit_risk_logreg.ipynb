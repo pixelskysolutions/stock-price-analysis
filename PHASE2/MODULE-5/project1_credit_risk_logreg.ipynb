{
 "cells": [
  {
   "cell_type": "code",
   "execution_count": 1,
   "id": "05efb574-053a-4f49-8fdb-dffb679880d1",
   "metadata": {},
   "outputs": [],
   "source": [
    "# =============================================\n",
    "# Phase 2 Module 5 - Machine Learning for Finance\n",
    "# Project 1: Credit Risk Modeling with Logistic Regression\n",
    "# =============================================\n",
    "\n",
    "# Author: Rein | Pixel Sky Solutions\n",
    "# Course: Python–Finance Master Plan\n",
    "# ---------------------------------------------\n",
    "# In this notebook, we build and evaluate a Logistic Regression\n",
    "# model to classify loan defaults using financial, macroeconomic,\n",
    "# and company data.\n",
    "#\n",
    "# Step-by-step, we will:\n",
    "# 1. Load (or auto-fetch) macroeconomic, market, and SEC data\n",
    "# 2. Clean and merge the datasets\n",
    "# 3. Create a synthetic 'Default' variable\n",
    "# 4. Train a Logistic Regression model\n",
    "# 5. Evaluate model accuracy, AUC, and visualize performance\n",
    "# ---------------------------------------------"
   ]
  },
  {
   "cell_type": "code",
   "execution_count": 2,
   "id": "f93908cc-0076-4bcb-a077-b0e09ea2ce94",
   "metadata": {},
   "outputs": [],
   "source": [
    "# ============================================================\n",
    "# 1. Import libraries\n",
    "# ============================================================"
   ]
  },
  {
   "cell_type": "code",
   "execution_count": 3,
   "id": "5d0b5fb2-ddb2-48af-b002-7b03e8e8af90",
   "metadata": {},
   "outputs": [],
   "source": [
    "import os\n",
    "import pandas as pd\n",
    "import numpy as np\n",
    "import matplotlib.pyplot as plt\n",
    "import seaborn as sns\n",
    "\n",
    "from yahooquery import Ticker\n",
    "import wbdata\n",
    "from datetime import datetime\n",
    "\n",
    "from sklearn.impute import SimpleImputer\n",
    "from sklearn.model_selection import train_test_split\n",
    "from sklearn.preprocessing import StandardScaler\n",
    "from sklearn.linear_model import LogisticRegression\n",
    "from sklearn.metrics import (\n",
    "    accuracy_score, confusion_matrix, classification_report,\n",
    "    roc_auc_score, roc_curve\n",
    ")"
   ]
  },
  {
   "cell_type": "code",
   "execution_count": 4,
   "id": "3b451df8-ecc8-4e1b-b37f-3694a94ab450",
   "metadata": {},
   "outputs": [],
   "source": [
    "sns.set(style=\"whitegrid\", palette=\"pastel\", font_scale=1.1)\n",
    "np.random.seed(42)"
   ]
  },
  {
   "cell_type": "code",
   "execution_count": 5,
   "id": "d4b9d746-ad7f-49dc-a710-ab86916d821c",
   "metadata": {},
   "outputs": [],
   "source": [
    "# ============================================================\n",
    "# 2. Auto-detect or create required data files\n",
    "# ============================================================"
   ]
  },
  {
   "cell_type": "code",
   "execution_count": 6,
   "id": "b9e10fcc-1e7b-4397-968f-0945c8384b0a",
   "metadata": {},
   "outputs": [],
   "source": [
    "def ensure_data_availability():\n",
    "    \"\"\"\n",
    "    Ensures the presence of three key datasets:\n",
    "      - macro_data.csv (macroeconomic indicators)\n",
    "      - market_data.csv (stock market data)\n",
    "      - sec_filings.csv (corporate filings metadata)\n",
    "    If any are missing, they will be created automatically.\n",
    "    \"\"\"\n",
    "    files_needed = {\n",
    "        \"macro_data.csv\": \"Macroeconomic data (World Bank)\",\n",
    "        \"market_data.csv\": \"Stock market data (Yahoo)\",\n",
    "        \"sec_filings.csv\": \"SEC filings data (synthetic)\",\n",
    "    }\n",
    "\n",
    "    for file, desc in files_needed.items():\n",
    "        if not os.path.exists(file):\n",
    "            print(f\"[INFO] {file} not found. Generating {desc}...\")\n",
    "\n",
    "            if file == \"macro_data.csv\":\n",
    "                # Example macro indicators: GDP growth, inflation, interest rate\n",
    "                indicators = {\n",
    "                    \"NY.GDP.MKTP.KD.ZG\": \"GDP_Growth\",\n",
    "                    \"FP.CPI.TOTL.ZG\": \"Inflation\",\n",
    "                    \"FR.INR.RINR\": \"Interest_Rate\"\n",
    "                }\n",
    "                df_macro = wbdata.get_dataframe(indicators, country=\"US\")\n",
    "                df_macro.reset_index(inplace=True)\n",
    "                df_macro.rename(columns={\"date\": \"Year\"}, inplace=True)\n",
    "                df_macro = df_macro.sort_values(\"Year\").tail(10)\n",
    "                df_macro.to_csv(file, index=False)\n",
    "\n",
    "            elif file == \"market_data.csv\":\n",
    "                ticker = Ticker(\"AAPL\")\n",
    "                hist = ticker.history(period=\"2y\").reset_index()\n",
    "                hist = hist.rename(columns={\"symbol\": \"Ticker\"})\n",
    "                hist.to_csv(file, index=False)\n",
    "\n",
    "            elif file == \"sec_filings.csv\":\n",
    "                # Create a simple synthetic SEC-like dataset\n",
    "                df_sec = pd.DataFrame({\n",
    "                    \"ticker\": [\"AAPL\"] * 10,\n",
    "                    \"form\": np.random.choice([\"4\", \"10-Q\", \"144\"], 10),\n",
    "                    \"filingDate\": pd.date_range(\"2025-01-01\", periods=10, freq=\"M\"),\n",
    "                    \"reportDate\": pd.date_range(\"2024-12-01\", periods=10, freq=\"M\"),\n",
    "                    \"accessionNumber\": [\n",
    "                        f\"000{np.random.randint(1000000,9999999)}-25-0000{i}\" for i in range(10)\n",
    "                    ]\n",
    "                })\n",
    "                df_sec.to_csv(file, index=False)\n",
    "\n",
    "    print(\"[INFO] All required datasets are available.\\n\")"
   ]
  },
  {
   "cell_type": "code",
   "execution_count": 7,
   "id": "f083d1e2-0be0-4ab0-a866-53627f658554",
   "metadata": {},
   "outputs": [
    {
     "name": "stdout",
     "output_type": "stream",
     "text": [
      "[INFO] All required datasets are available.\n",
      "\n"
     ]
    }
   ],
   "source": [
    "ensure_data_availability()"
   ]
  },
  {
   "cell_type": "code",
   "execution_count": 8,
   "id": "a17a963f-5fbf-4671-9613-2e3bc476b10e",
   "metadata": {},
   "outputs": [],
   "source": [
    "# ============================================================\n",
    "# 3. Load datasets\n",
    "# ============================================================"
   ]
  },
  {
   "cell_type": "code",
   "execution_count": 9,
   "id": "b2a97de9-ab83-4e15-87da-281036923147",
   "metadata": {},
   "outputs": [
    {
     "name": "stdout",
     "output_type": "stream",
     "text": [
      "Data Loaded Successfully:\n",
      "  Macro data shape: (10, 4)\n",
      "  Stock data shape: (2008, 7)\n",
      "  SEC data shape:   (10, 5)\n",
      "\n"
     ]
    }
   ],
   "source": [
    "macro_df = pd.read_csv(\"macro_data.csv\")\n",
    "stock_df = pd.read_csv(\"market_data.csv\")\n",
    "sec_df = pd.read_csv(\"sec_filings.csv\")\n",
    "\n",
    "print(\"Data Loaded Successfully:\")\n",
    "print(f\"  Macro data shape: {macro_df.shape}\")\n",
    "print(f\"  Stock data shape: {stock_df.shape}\")\n",
    "print(f\"  SEC data shape:   {sec_df.shape}\\n\")"
   ]
  },
  {
   "cell_type": "code",
   "execution_count": 10,
   "id": "98cc7af2-77cb-4f81-8e6b-0ce5d6e98562",
   "metadata": {},
   "outputs": [],
   "source": [
    "# ============================================================\n",
    "# 4. Data Overview\n",
    "# ============================================================"
   ]
  },
  {
   "cell_type": "code",
   "execution_count": 11,
   "id": "282bf609-41c4-412e-ada1-cadaa7acf0b9",
   "metadata": {},
   "outputs": [
    {
     "name": "stdout",
     "output_type": "stream",
     "text": [
      "\n",
      "--- Macro Data Sample ---\n"
     ]
    },
    {
     "data": {
      "text/html": [
       "<div>\n",
       "<style scoped>\n",
       "    .dataframe tbody tr th:only-of-type {\n",
       "        vertical-align: middle;\n",
       "    }\n",
       "\n",
       "    .dataframe tbody tr th {\n",
       "        vertical-align: top;\n",
       "    }\n",
       "\n",
       "    .dataframe thead th {\n",
       "        text-align: right;\n",
       "    }\n",
       "</style>\n",
       "<table border=\"1\" class=\"dataframe\">\n",
       "  <thead>\n",
       "    <tr style=\"text-align: right;\">\n",
       "      <th></th>\n",
       "      <th>Year</th>\n",
       "      <th>GDP_Growth</th>\n",
       "      <th>Inflation</th>\n",
       "      <th>Interest_Rate</th>\n",
       "    </tr>\n",
       "  </thead>\n",
       "  <tbody>\n",
       "    <tr>\n",
       "      <th>0</th>\n",
       "      <td>2015</td>\n",
       "      <td>2.945550</td>\n",
       "      <td>0.118627</td>\n",
       "      <td>3.260000</td>\n",
       "    </tr>\n",
       "    <tr>\n",
       "      <th>1</th>\n",
       "      <td>2016</td>\n",
       "      <td>1.819451</td>\n",
       "      <td>1.261583</td>\n",
       "      <td>3.511667</td>\n",
       "    </tr>\n",
       "    <tr>\n",
       "      <th>2</th>\n",
       "      <td>2017</td>\n",
       "      <td>2.457622</td>\n",
       "      <td>2.130110</td>\n",
       "      <td>4.096667</td>\n",
       "    </tr>\n",
       "    <tr>\n",
       "      <th>3</th>\n",
       "      <td>2018</td>\n",
       "      <td>2.966505</td>\n",
       "      <td>2.442583</td>\n",
       "      <td>4.904167</td>\n",
       "    </tr>\n",
       "    <tr>\n",
       "      <th>4</th>\n",
       "      <td>2019</td>\n",
       "      <td>2.583825</td>\n",
       "      <td>1.812210</td>\n",
       "      <td>5.282500</td>\n",
       "    </tr>\n",
       "  </tbody>\n",
       "</table>\n",
       "</div>"
      ],
      "text/plain": [
       "   Year  GDP_Growth  Inflation  Interest_Rate\n",
       "0  2015    2.945550   0.118627       3.260000\n",
       "1  2016    1.819451   1.261583       3.511667\n",
       "2  2017    2.457622   2.130110       4.096667\n",
       "3  2018    2.966505   2.442583       4.904167\n",
       "4  2019    2.583825   1.812210       5.282500"
      ]
     },
     "metadata": {},
     "output_type": "display_data"
    }
   ],
   "source": [
    "print(\"\\n--- Macro Data Sample ---\")\n",
    "display(macro_df.head())"
   ]
  },
  {
   "cell_type": "code",
   "execution_count": 12,
   "id": "2714d4e7-acea-4ae4-89ce-b38ff1db6c55",
   "metadata": {},
   "outputs": [
    {
     "name": "stdout",
     "output_type": "stream",
     "text": [
      "\n",
      "--- Stock Data Sample ---\n"
     ]
    },
    {
     "data": {
      "text/html": [
       "<div>\n",
       "<style scoped>\n",
       "    .dataframe tbody tr th:only-of-type {\n",
       "        vertical-align: middle;\n",
       "    }\n",
       "\n",
       "    .dataframe tbody tr th {\n",
       "        vertical-align: top;\n",
       "    }\n",
       "\n",
       "    .dataframe thead th {\n",
       "        text-align: right;\n",
       "    }\n",
       "</style>\n",
       "<table border=\"1\" class=\"dataframe\">\n",
       "  <thead>\n",
       "    <tr style=\"text-align: right;\">\n",
       "      <th></th>\n",
       "      <th>date</th>\n",
       "      <th>Ticker</th>\n",
       "      <th>open</th>\n",
       "      <th>high</th>\n",
       "      <th>low</th>\n",
       "      <th>close</th>\n",
       "      <th>volume</th>\n",
       "    </tr>\n",
       "  </thead>\n",
       "  <tbody>\n",
       "    <tr>\n",
       "      <th>0</th>\n",
       "      <td>2023-10-11</td>\n",
       "      <td>AAPL</td>\n",
       "      <td>176.471483</td>\n",
       "      <td>178.105487</td>\n",
       "      <td>175.877312</td>\n",
       "      <td>178.055969</td>\n",
       "      <td>47551100</td>\n",
       "    </tr>\n",
       "    <tr>\n",
       "      <th>1</th>\n",
       "      <td>2023-10-12</td>\n",
       "      <td>AAPL</td>\n",
       "      <td>178.323347</td>\n",
       "      <td>180.571317</td>\n",
       "      <td>177.303324</td>\n",
       "      <td>178.957138</td>\n",
       "      <td>56743100</td>\n",
       "    </tr>\n",
       "    <tr>\n",
       "      <th>2</th>\n",
       "      <td>2023-10-13</td>\n",
       "      <td>AAPL</td>\n",
       "      <td>179.660252</td>\n",
       "      <td>180.165300</td>\n",
       "      <td>176.412069</td>\n",
       "      <td>177.115189</td>\n",
       "      <td>51427100</td>\n",
       "    </tr>\n",
       "    <tr>\n",
       "      <th>3</th>\n",
       "      <td>2023-10-16</td>\n",
       "      <td>AAPL</td>\n",
       "      <td>175.035543</td>\n",
       "      <td>177.342944</td>\n",
       "      <td>174.797865</td>\n",
       "      <td>176.986435</td>\n",
       "      <td>52517000</td>\n",
       "    </tr>\n",
       "    <tr>\n",
       "      <th>4</th>\n",
       "      <td>2023-10-17</td>\n",
       "      <td>AAPL</td>\n",
       "      <td>174.936521</td>\n",
       "      <td>176.689357</td>\n",
       "      <td>173.104475</td>\n",
       "      <td>175.431671</td>\n",
       "      <td>57549400</td>\n",
       "    </tr>\n",
       "  </tbody>\n",
       "</table>\n",
       "</div>"
      ],
      "text/plain": [
       "         date Ticker        open        high         low       close    volume\n",
       "0  2023-10-11   AAPL  176.471483  178.105487  175.877312  178.055969  47551100\n",
       "1  2023-10-12   AAPL  178.323347  180.571317  177.303324  178.957138  56743100\n",
       "2  2023-10-13   AAPL  179.660252  180.165300  176.412069  177.115189  51427100\n",
       "3  2023-10-16   AAPL  175.035543  177.342944  174.797865  176.986435  52517000\n",
       "4  2023-10-17   AAPL  174.936521  176.689357  173.104475  175.431671  57549400"
      ]
     },
     "metadata": {},
     "output_type": "display_data"
    }
   ],
   "source": [
    "print(\"\\n--- Stock Data Sample ---\")\n",
    "display(stock_df.head())"
   ]
  },
  {
   "cell_type": "code",
   "execution_count": 13,
   "id": "694ffc1d-df97-4590-8ec0-5683abd3e76b",
   "metadata": {},
   "outputs": [
    {
     "name": "stdout",
     "output_type": "stream",
     "text": [
      "\n",
      "--- SEC Data Sample ---\n"
     ]
    },
    {
     "data": {
      "text/html": [
       "<div>\n",
       "<style scoped>\n",
       "    .dataframe tbody tr th:only-of-type {\n",
       "        vertical-align: middle;\n",
       "    }\n",
       "\n",
       "    .dataframe tbody tr th {\n",
       "        vertical-align: top;\n",
       "    }\n",
       "\n",
       "    .dataframe thead th {\n",
       "        text-align: right;\n",
       "    }\n",
       "</style>\n",
       "<table border=\"1\" class=\"dataframe\">\n",
       "  <thead>\n",
       "    <tr style=\"text-align: right;\">\n",
       "      <th></th>\n",
       "      <th>ticker</th>\n",
       "      <th>form</th>\n",
       "      <th>filingDate</th>\n",
       "      <th>reportDate</th>\n",
       "      <th>accessionNumber</th>\n",
       "    </tr>\n",
       "  </thead>\n",
       "  <tbody>\n",
       "    <tr>\n",
       "      <th>0</th>\n",
       "      <td>AAPL</td>\n",
       "      <td>4</td>\n",
       "      <td>2025-10-03</td>\n",
       "      <td>2025-10-01</td>\n",
       "      <td>0001214156-25-000011</td>\n",
       "    </tr>\n",
       "    <tr>\n",
       "      <th>1</th>\n",
       "      <td>AAPL</td>\n",
       "      <td>4</td>\n",
       "      <td>2025-10-03</td>\n",
       "      <td>2025-10-01</td>\n",
       "      <td>0001767094-25-000009</td>\n",
       "    </tr>\n",
       "    <tr>\n",
       "      <th>2</th>\n",
       "      <td>AAPL</td>\n",
       "      <td>4</td>\n",
       "      <td>2025-10-03</td>\n",
       "      <td>2025-10-01</td>\n",
       "      <td>0002078476-25-000005</td>\n",
       "    </tr>\n",
       "    <tr>\n",
       "      <th>3</th>\n",
       "      <td>AAPL</td>\n",
       "      <td>4</td>\n",
       "      <td>2025-10-03</td>\n",
       "      <td>2025-10-01</td>\n",
       "      <td>0001462356-25-000010</td>\n",
       "    </tr>\n",
       "    <tr>\n",
       "      <th>4</th>\n",
       "      <td>AAPL</td>\n",
       "      <td>144</td>\n",
       "      <td>2025-10-02</td>\n",
       "      <td>NaN</td>\n",
       "      <td>0001950047-25-007713</td>\n",
       "    </tr>\n",
       "  </tbody>\n",
       "</table>\n",
       "</div>"
      ],
      "text/plain": [
       "  ticker form  filingDate  reportDate       accessionNumber\n",
       "0   AAPL    4  2025-10-03  2025-10-01  0001214156-25-000011\n",
       "1   AAPL    4  2025-10-03  2025-10-01  0001767094-25-000009\n",
       "2   AAPL    4  2025-10-03  2025-10-01  0002078476-25-000005\n",
       "3   AAPL    4  2025-10-03  2025-10-01  0001462356-25-000010\n",
       "4   AAPL  144  2025-10-02         NaN  0001950047-25-007713"
      ]
     },
     "metadata": {},
     "output_type": "display_data"
    }
   ],
   "source": [
    "print(\"\\n--- SEC Data Sample ---\")\n",
    "display(sec_df.head())"
   ]
  },
  {
   "cell_type": "code",
   "execution_count": 14,
   "id": "b215ee02-bc8b-412a-ad88-6e17595d70d7",
   "metadata": {},
   "outputs": [],
   "source": [
    "# ============================================================\n",
    "# 5. Data Cleaning & Preprocessing\n",
    "# ============================================================"
   ]
  },
  {
   "cell_type": "code",
   "execution_count": 15,
   "id": "a6ac2868-6a5d-46d4-bebd-c7660f19134b",
   "metadata": {},
   "outputs": [],
   "source": [
    "# Basic cleanup\n",
    "for df in [macro_df, stock_df, sec_df]:\n",
    "    df.drop_duplicates(inplace=True)\n",
    "    df.reset_index(drop=True, inplace=True)"
   ]
  },
  {
   "cell_type": "code",
   "execution_count": 16,
   "id": "d328759b-50c0-4517-8f58-e0dae4cb6486",
   "metadata": {},
   "outputs": [],
   "source": [
    "# Merge demonstration: joining stock with macro (by nearest year if possible)\n",
    "if \"date\" in stock_df.columns:\n",
    "    stock_df[\"date\"] = pd.to_datetime(stock_df[\"date\"])\n",
    "    stock_df[\"Year\"] = stock_df[\"date\"].dt.year\n",
    "else:\n",
    "    stock_df[\"Year\"] = datetime.now().year\n",
    "\n",
    "if \"Year\" in macro_df.columns:\n",
    "    merged = pd.merge(stock_df, macro_df, on=\"Year\", how=\"left\")\n",
    "else:\n",
    "    merged = stock_df.copy()"
   ]
  },
  {
   "cell_type": "code",
   "execution_count": 17,
   "id": "db90d4db-1368-41da-9a70-46488d7d8533",
   "metadata": {},
   "outputs": [
    {
     "name": "stdout",
     "output_type": "stream",
     "text": [
      "\n",
      "Merged dataset shape: (2008, 12)\n"
     ]
    },
    {
     "data": {
      "text/html": [
       "<div>\n",
       "<style scoped>\n",
       "    .dataframe tbody tr th:only-of-type {\n",
       "        vertical-align: middle;\n",
       "    }\n",
       "\n",
       "    .dataframe tbody tr th {\n",
       "        vertical-align: top;\n",
       "    }\n",
       "\n",
       "    .dataframe thead th {\n",
       "        text-align: right;\n",
       "    }\n",
       "</style>\n",
       "<table border=\"1\" class=\"dataframe\">\n",
       "  <thead>\n",
       "    <tr style=\"text-align: right;\">\n",
       "      <th></th>\n",
       "      <th>date</th>\n",
       "      <th>Ticker</th>\n",
       "      <th>open</th>\n",
       "      <th>high</th>\n",
       "      <th>low</th>\n",
       "      <th>close</th>\n",
       "      <th>volume</th>\n",
       "      <th>Year</th>\n",
       "      <th>GDP_Growth</th>\n",
       "      <th>Inflation</th>\n",
       "      <th>Interest_Rate</th>\n",
       "      <th>Default</th>\n",
       "    </tr>\n",
       "  </thead>\n",
       "  <tbody>\n",
       "    <tr>\n",
       "      <th>0</th>\n",
       "      <td>2023-10-11</td>\n",
       "      <td>AAPL</td>\n",
       "      <td>176.471483</td>\n",
       "      <td>178.105487</td>\n",
       "      <td>175.877312</td>\n",
       "      <td>178.055969</td>\n",
       "      <td>47551100</td>\n",
       "      <td>2023</td>\n",
       "      <td>2.887556</td>\n",
       "      <td>4.116338</td>\n",
       "      <td>NaN</td>\n",
       "      <td>0</td>\n",
       "    </tr>\n",
       "    <tr>\n",
       "      <th>1</th>\n",
       "      <td>2023-10-12</td>\n",
       "      <td>AAPL</td>\n",
       "      <td>178.323347</td>\n",
       "      <td>180.571317</td>\n",
       "      <td>177.303324</td>\n",
       "      <td>178.957138</td>\n",
       "      <td>56743100</td>\n",
       "      <td>2023</td>\n",
       "      <td>2.887556</td>\n",
       "      <td>4.116338</td>\n",
       "      <td>NaN</td>\n",
       "      <td>1</td>\n",
       "    </tr>\n",
       "    <tr>\n",
       "      <th>2</th>\n",
       "      <td>2023-10-13</td>\n",
       "      <td>AAPL</td>\n",
       "      <td>179.660252</td>\n",
       "      <td>180.165300</td>\n",
       "      <td>176.412069</td>\n",
       "      <td>177.115189</td>\n",
       "      <td>51427100</td>\n",
       "      <td>2023</td>\n",
       "      <td>2.887556</td>\n",
       "      <td>4.116338</td>\n",
       "      <td>NaN</td>\n",
       "      <td>0</td>\n",
       "    </tr>\n",
       "    <tr>\n",
       "      <th>3</th>\n",
       "      <td>2023-10-16</td>\n",
       "      <td>AAPL</td>\n",
       "      <td>175.035543</td>\n",
       "      <td>177.342944</td>\n",
       "      <td>174.797865</td>\n",
       "      <td>176.986435</td>\n",
       "      <td>52517000</td>\n",
       "      <td>2023</td>\n",
       "      <td>2.887556</td>\n",
       "      <td>4.116338</td>\n",
       "      <td>NaN</td>\n",
       "      <td>0</td>\n",
       "    </tr>\n",
       "    <tr>\n",
       "      <th>4</th>\n",
       "      <td>2023-10-17</td>\n",
       "      <td>AAPL</td>\n",
       "      <td>174.936521</td>\n",
       "      <td>176.689357</td>\n",
       "      <td>173.104475</td>\n",
       "      <td>175.431671</td>\n",
       "      <td>57549400</td>\n",
       "      <td>2023</td>\n",
       "      <td>2.887556</td>\n",
       "      <td>4.116338</td>\n",
       "      <td>NaN</td>\n",
       "      <td>0</td>\n",
       "    </tr>\n",
       "  </tbody>\n",
       "</table>\n",
       "</div>"
      ],
      "text/plain": [
       "        date Ticker        open        high         low       close    volume  \\\n",
       "0 2023-10-11   AAPL  176.471483  178.105487  175.877312  178.055969  47551100   \n",
       "1 2023-10-12   AAPL  178.323347  180.571317  177.303324  178.957138  56743100   \n",
       "2 2023-10-13   AAPL  179.660252  180.165300  176.412069  177.115189  51427100   \n",
       "3 2023-10-16   AAPL  175.035543  177.342944  174.797865  176.986435  52517000   \n",
       "4 2023-10-17   AAPL  174.936521  176.689357  173.104475  175.431671  57549400   \n",
       "\n",
       "   Year  GDP_Growth  Inflation  Interest_Rate  Default  \n",
       "0  2023    2.887556   4.116338            NaN        0  \n",
       "1  2023    2.887556   4.116338            NaN        1  \n",
       "2  2023    2.887556   4.116338            NaN        0  \n",
       "3  2023    2.887556   4.116338            NaN        0  \n",
       "4  2023    2.887556   4.116338            NaN        0  "
      ]
     },
     "metadata": {},
     "output_type": "display_data"
    }
   ],
   "source": [
    "# Synthetic binary target (Default vs Non-default)\n",
    "merged[\"Default\"] = np.random.choice([0, 1], size=len(merged), p=[0.85, 0.15])\n",
    "\n",
    "print(\"\\nMerged dataset shape:\", merged.shape)\n",
    "display(merged.head())"
   ]
  },
  {
   "cell_type": "code",
   "execution_count": 18,
   "id": "0e1a97fc-86c4-4a32-b134-c04e01e08483",
   "metadata": {},
   "outputs": [],
   "source": [
    "# ============================================================\n",
    "# 6. Feature Selection\n",
    "# ============================================================"
   ]
  },
  {
   "cell_type": "code",
   "execution_count": 19,
   "id": "4b082417-7b08-43b2-b289-eb722c9abc02",
   "metadata": {},
   "outputs": [
    {
     "name": "stdout",
     "output_type": "stream",
     "text": [
      "Feature matrix shape: (2008, 9)\n",
      "Target vector shape:  (2008,)\n"
     ]
    }
   ],
   "source": [
    "numeric_cols = merged.select_dtypes(include=[np.number]).columns.tolist()\n",
    "X = merged[numeric_cols].drop(columns=[\"Default\"], errors=\"ignore\")\n",
    "y = merged[\"Default\"]\n",
    "\n",
    "print(f\"Feature matrix shape: {X.shape}\")\n",
    "print(f\"Target vector shape:  {y.shape}\")"
   ]
  },
  {
   "cell_type": "code",
   "execution_count": 20,
   "id": "c27fcc37-5860-4c0e-a05b-b04d94fdd619",
   "metadata": {},
   "outputs": [],
   "source": [
    "# ============================================================\n",
    "# 7. Train-Test Split\n",
    "# ============================================================"
   ]
  },
  {
   "cell_type": "code",
   "execution_count": 21,
   "id": "364d4aac-71d7-4660-b110-8c885a9792d1",
   "metadata": {},
   "outputs": [
    {
     "name": "stdout",
     "output_type": "stream",
     "text": [
      "\n",
      "Train samples: 1405, Test samples: 603\n"
     ]
    }
   ],
   "source": [
    "X_train, X_test, y_train, y_test = train_test_split(\n",
    "    X, y, test_size=0.3, random_state=42, stratify=y\n",
    ")\n",
    "print(f\"\\nTrain samples: {X_train.shape[0]}, Test samples: {X_test.shape[0]}\")"
   ]
  },
  {
   "cell_type": "code",
   "execution_count": 22,
   "id": "f38c3383-1f6b-4d33-b09e-6e180db284e4",
   "metadata": {},
   "outputs": [],
   "source": [
    "# =============================================\n",
    "# Clean numeric features before scaling\n",
    "# ============================================="
   ]
  },
  {
   "cell_type": "code",
   "execution_count": 23,
   "id": "31878989-ec49-49d2-85f4-e189e98cf1e2",
   "metadata": {},
   "outputs": [
    {
     "name": "stdout",
     "output_type": "stream",
     "text": [
      "[INFO] Dropping zero-variance columns: ['Interest_Rate']\n"
     ]
    }
   ],
   "source": [
    "# Drop columns with all NaN or zero variance\n",
    "numeric_cols = X.select_dtypes(include=[np.number])\n",
    "zero_var_cols = numeric_cols.columns[numeric_cols.nunique() <= 1]\n",
    "\n",
    "if len(zero_var_cols) > 0:\n",
    "    print(\"[INFO] Dropping zero-variance columns:\", list(zero_var_cols))\n",
    "    X = X.drop(columns=zero_var_cols)\n",
    "\n",
    "# Replace inf/-inf with NaN and drop remaining NaNs\n",
    "X = X.replace([np.inf, -np.inf], np.nan).dropna()\n",
    "y = y.loc[X.index]  # Keep target aligned"
   ]
  },
  {
   "cell_type": "code",
   "execution_count": 24,
   "id": "e8116b35-5e3d-48e3-9733-dab0fd45848d",
   "metadata": {},
   "outputs": [],
   "source": [
    "# ============================================================\n",
    "# 🧹 Step: Handle Missing Values Before Scaling\n",
    "# ============================================================"
   ]
  },
  {
   "cell_type": "code",
   "execution_count": 25,
   "id": "1ea06a17-cbe2-41a4-9c4c-7e8362cd743c",
   "metadata": {},
   "outputs": [],
   "source": [
    "# 1. Ensure all numeric features\n",
    "X = X.select_dtypes(include=[np.number])\n",
    "\n",
    "# 2. Create an imputer (replace NaNs with column mean)\n",
    "imputer = SimpleImputer(strategy=\"mean\")\n",
    "X_imputed = imputer.fit_transform(X)\n",
    "\n",
    "# 3. Convert back to DataFrame with same columns\n",
    "X = pd.DataFrame(X_imputed, columns=X.columns, index=X.index)\n",
    "\n",
    "# 4. Drop any remaining NaNs in y to stay aligned\n",
    "y = y.loc[X.index]"
   ]
  },
  {
   "cell_type": "code",
   "execution_count": 26,
   "id": "d283061e-beb8-4160-83dc-7d8a4c5e845c",
   "metadata": {},
   "outputs": [],
   "source": [
    "# ============================================================\n",
    "# 8. Feature Scaling\n",
    "# ============================================================"
   ]
  },
  {
   "cell_type": "code",
   "execution_count": 27,
   "id": "02ccff56-4d88-42a5-a7a8-fc81d025f941",
   "metadata": {},
   "outputs": [],
   "source": [
    "# Continue with scaling and train-test split\n",
    "scaler = StandardScaler()\n",
    "X_scaled = scaler.fit_transform(X)"
   ]
  },
  {
   "cell_type": "code",
   "execution_count": 28,
   "id": "3850bc90-8207-4f2b-aecb-0342e58e3a36",
   "metadata": {},
   "outputs": [],
   "source": [
    "# ============================================================\n",
    "# 9. Model Training\n",
    "# ============================================================"
   ]
  },
  {
   "cell_type": "code",
   "execution_count": 36,
   "id": "305d0ced-fb81-4c75-87ff-42adb090974e",
   "metadata": {},
   "outputs": [
    {
     "name": "stdout",
     "output_type": "stream",
     "text": [
      "[INFO] Logistic Regression model trained successfully.\n"
     ]
    }
   ],
   "source": [
    "# Train-test split (after scaling)\n",
    "X_train, X_test, y_train, y_test = train_test_split(\n",
    "    X_scaled, y, test_size=0.3, random_state=42\n",
    ")\n",
    "\n",
    "# Logistic Regression with balanced class weights\n",
    "model = LogisticRegression(max_iter=1000, class_weight=\"balanced\", random_state=42)\n",
    "model.fit(X_train, y_train)\n",
    "\n",
    "# Predictions and probabilities\n",
    "y_pred = model.predict(X_test)\n",
    "y_prob = model.predict_proba(X_test)[:, 1]\n",
    "\n",
    "print(\"[INFO] Logistic Regression model trained successfully.\")"
   ]
  },
  {
   "cell_type": "code",
   "execution_count": 37,
   "id": "ada54604-cefd-4d0c-835b-11fe2821867b",
   "metadata": {},
   "outputs": [],
   "source": [
    "# ============================================================\n",
    "# 10. Model Evaluation\n",
    "# ============================================================"
   ]
  },
  {
   "cell_type": "code",
   "execution_count": 38,
   "id": "48875cfe-920d-40af-94d1-8dbc6e12fddf",
   "metadata": {},
   "outputs": [
    {
     "name": "stdout",
     "output_type": "stream",
     "text": [
      "\n",
      "--- Classification Report ---\n",
      "              precision    recall  f1-score   support\n",
      "\n",
      "           0      0.843     0.449     0.586       312\n",
      "           1      0.157     0.552     0.244        58\n",
      "\n",
      "    accuracy                          0.465       370\n",
      "   macro avg      0.500     0.500     0.415       370\n",
      "weighted avg      0.736     0.465     0.532       370\n",
      "\n",
      "Accuracy: 0.465\n",
      "ROC-AUC:  0.469\n"
     ]
    },
    {
     "data": {
      "image/png": "[encoded data removed]",
      "text/plain": [
       "<Figure size 640x480 with 2 Axes>"
      ]
     },
     "metadata": {},
     "output_type": "display_data"
    },
    {
     "data": {
      "image/png": "[encoded data removed]",
      "text/plain": [
       "<Figure size 640x480 with 1 Axes>"
      ]
     },
     "metadata": {},
     "output_type": "display_data"
    }
   ],
   "source": [
    "print(\"\\n--- Classification Report ---\")\n",
    "print(classification_report(y_test, y_pred, digits=3))\n",
    "\n",
    "acc = accuracy_score(y_test, y_pred)\n",
    "auc = roc_auc_score(y_test, y_prob)\n",
    "print(f\"Accuracy: {acc:.3f}\")\n",
    "print(f\"ROC-AUC:  {auc:.3f}\")\n",
    "\n",
    "# Confusion Matrix\n",
    "cm = confusion_matrix(y_test, y_pred)\n",
    "sns.heatmap(cm, annot=True, fmt=\"d\", cmap=\"Blues\")\n",
    "plt.title(\"Confusion Matrix\")\n",
    "plt.xlabel(\"Predicted\")\n",
    "plt.ylabel(\"Actual\")\n",
    "plt.show()\n",
    "\n",
    "# ROC Curve\n",
    "fpr, tpr, _ = roc_curve(y_test, y_prob)\n",
    "plt.plot(fpr, tpr, label=f\"AUC = {auc:.3f}\")\n",
    "plt.plot([0, 1], [0, 1], \"k--\")\n",
    "plt.title(\"ROC Curve - Logistic Regression\")\n",
    "plt.xlabel(\"False Positive Rate\")\n",
    "plt.ylabel(\"True Positive Rate\")\n",
    "plt.legend()\n",
    "plt.show()"
   ]
  },
  {
   "cell_type": "code",
   "execution_count": 40,
   "id": "2035df5f-2d5f-4ebc-a13c-4865872d0639",
   "metadata": {},
   "outputs": [],
   "source": [
    "# ============================================================\n",
    "# 11. Analytical Summary\n",
    "# ============================================================"
   ]
  },
  {
   "cell_type": "code",
   "execution_count": 41,
   "id": "0f608123-21c5-4df8-9743-ca156715a931",
   "metadata": {},
   "outputs": [
    {
     "name": "stdout",
     "output_type": "stream",
     "text": [
      "\n",
      "--- Analytical Summary ---\n",
      "Model Accuracy: 0.465\n",
      "ROC-AUC Score:  0.469\n",
      "⚠️  Model performance is low (AUC < 0.6). This is expected for synthetic data.\n",
      "Next steps: incorporate true credit features (e.g., debt-to-income ratio, payment history).\n",
      "\n",
      "--- Project Complete ---\n",
      "Phase 2 / Module 5 - Project 1 successfully executed.\n",
      "\n"
     ]
    }
   ],
   "source": [
    "print(\"\\n--- Analytical Summary ---\")\n",
    "print(f\"Model Accuracy: {acc:.3f}\")\n",
    "print(f\"ROC-AUC Score:  {auc:.3f}\")\n",
    "if auc < 0.6:\n",
    "    print(\"⚠️  Model performance is low (AUC < 0.6). This is expected for synthetic data.\\n\"\n",
    "          \"Next steps: incorporate true credit features (e.g., debt-to-income ratio, payment history).\")\n",
    "else:\n",
    "    print(\"✅ Model performs reasonably well. Proceed to feature importance analysis or model tuning.\")\n",
    "\n",
    "print(\"\\n--- Project Complete ---\")\n",
    "print(\"Phase 2 / Module 5 - Project 1 successfully executed.\\n\")"
   ]
  },
  {
   "cell_type": "code",
   "execution_count": 42,
   "id": "a2954eb3-2848-4f15-b9c5-a8168ce5f7e3",
   "metadata": {},
   "outputs": [],
   "source": [
    "# =============================================\n",
    "# END OF PROJECT 1\n",
    "# ============================================="
   ]
  },
  {
   "cell_type": "code",
   "execution_count": 44,
   "id": "bbdcb8ed-788f-4cf2-bed5-53377225e595",
   "metadata": {},
   "outputs": [],
   "source": [
    "# ============================================================\n",
    "# 📊 Conclusion Summary\n",
    "# ============================================================"
   ]
  },
  {
   "cell_type": "code",
   "execution_count": 45,
   "id": "7742d810-5de2-4f7c-ac43-1cf1c0ae20c7",
   "metadata": {},
   "outputs": [],
   "source": [
    "### Model Overview\n",
    "# - **Algorithm Used:** Logistic Regression (binary classifier)\n",
    "# - **Objective:** Predict probability of loan default (`Default = 1`)\n",
    "# - **Data Sources:**  \n",
    "#  - World Bank macroeconomic indicators (GDP, Inflation, Interest Rate)  \n",
    "#  - Yahoo Finance market data (AAPL historical stock data)  \n",
    "#  - Synthetic SEC filings (corporate disclosure metadata)\n",
    "\n",
    "# ---\n",
    "\n",
    "### Model Performance\n",
    "# | Metric | Value | Interpretation |\n",
    "# |:-------|:-------|:---------------|\n",
    "# | **Accuracy** | ≈ (replace with your result) | Overall prediction correctness |\n",
    "# | **ROC-AUC** | ≈ (replace with your result) | Probability the model ranks a random default higher than a non-default |\n",
    "# | **Precision / Recall** | (replace if available) | Measures balance between missed and false positives |\n",
    "\n",
    "# ---\n",
    "\n",
    "### AUC Interpretation\n",
    "# - A **ROC-AUC of 0.5** = random guessing  \n",
    "# - A **ROC-AUC between 0.7–0.8** = good discrimination  \n",
    "# - A **ROC-AUC above 0.8** = strong model performance  \n",
    "# - If your score is below 0.7, it indicates that **feature quality or balance could be improved**.\n",
    "\n",
    "# ---\n",
    "\n",
    "### Technical Insights\n",
    "# - Scaling and imputation ensured data consistency.  \n",
    "# - Balancing classes prevented bias toward the majority “non-default” class.  \n",
    "# - Logistic Regression coefficients can be interpreted as the *directional effect* of each feature on default risk.\n",
    "\n",
    "# ---\n",
    "\n",
    "### ✅ Summary\n",
    "# This project successfully demonstrates a complete **credit risk modeling workflow** — \n",
    "# from data creation to predictive analytics — forming a reusable template for future finance-focused ML models."
   ]
  },
  {
   "cell_type": "code",
   "execution_count": 43,
   "id": "4dcaa8a2-1941-42bc-a529-7e53a481eed2",
   "metadata": {},
   "outputs": [],
   "source": [
    "# ============================================================\n",
    "# 📘 Business Interpretation\n",
    "# ============================================================\n",
    "\n",
    "### 1. What This Model Represents\n",
    "# In this project, we built a **Credit Risk Model** using **Logistic Regression**, \n",
    "# trained on macroeconomic, market, and corporate-level data.  \n",
    "# The model estimates the **probability of loan default**, a key risk metric \n",
    "# used in modern finance.\n",
    "\n",
    "# ---\n",
    "\n",
    "### 2. Key Insights\n",
    "# - **Macroeconomic Factors** like GDP growth, inflation, and interest rates \n",
    "# influence overall default risk — tighter economic conditions increase it.  \n",
    "# - **Market Behavior** (stock trends, volatility) reflects investor confidence and \n",
    "# can signal early signs of financial stress.  \n",
    "# - **Corporate Activity** (SEC filings) can serve as a proxy for transparency and financial health.\n",
    "\n",
    "# ---\n",
    "\n",
    "### 3. Business Use Cases\n",
    "# | Sector | Application |\n",
    "# |---------|-------------|\n",
    "# | Banking / FinTech | Credit scoring and loan approval systems |\n",
    "# | Asset Management | Portfolio risk assessment and stress testing |\n",
    "# | Insurance | Underwriting and policy default risk estimation |\n",
    "# | Corporate Finance | Forecasting company default probability during macro shifts |\n",
    "\n",
    "# ---\n",
    "\n",
    "### 4. Why It Matters\n",
    "# By modeling the likelihood of default, financial institutions can:\n",
    "# - Allocate capital more efficiently  \n",
    "# - Price loans and credit spreads more accurately  \n",
    "# - Reduce losses from credit events  \n",
    "# - Comply with **Basel regulatory requirements** for risk-weighted assets (RWA)\n",
    "\n",
    "# ---\n",
    "\n",
    "### ✅ Takeaway\n",
    "# This project demonstrates how **machine learning connects data and decision-making in \n",
    "# finance** — transforming raw economic indicators into actionable credit risk insights.\n",
    "\n",
    "# > *“Data tells the story. The model translates it into business intelligence.” — Rein | Pixel Sky Solutions*"
   ]
  },
  {
   "cell_type": "code",
   "execution_count": null,
   "id": "e6addf48-6730-40ac-a0d5-941bf4c26ac8",
   "metadata": {},
   "outputs": [],
   "source": []
  }
 ],
 "metadata": {
  "kernelspec": {
   "display_name": "Python 3 (ipykernel)",
   "language": "python",
   "name": "python3"
  },
  "language_info": {
   "codemirror_mode": {
    "name": "ipython",
    "version": 3
   },
   "file_extension": ".py",
   "mimetype": "text/x-python",
   "name": "python",
   "nbconvert_exporter": "python",
   "pygments_lexer": "ipython3",
   "version": "3.11.1"
  }
 },
 "nbformat": 4,
 "nbformat_minor": 5
}
