{
 "cells": [
  {
   "cell_type": "code",
   "execution_count": 1,
   "id": "1ee37176-8131-412a-b35c-f12733eb235b",
   "metadata": {},
   "outputs": [],
   "source": [
    "# =============================================\n",
    "# Phase 2 - Applied Quant & AI\n",
    "# Shared Data Gathering Notebook\n",
    "# =============================================\n",
    "\n",
    "# Author: Rein | Pixel Sky Solutions\n",
    "# Course: Python–Finance Master Plan\n",
    "# ---------------------------------------------\n",
    "# In this notebook, we collect and standardize\n",
    "# financial datasets from multiple sources:\n",
    "#   • Market data (Yahoo Finance via yahooquery)\n",
    "#   • Macroeconomic indicators (World Bank API)\n",
    "#   • Company filings (SEC EDGAR API)\n",
    "#\n",
    "# Output:\n",
    "#   Cleaned CSV files ready for ML pipeline use\n",
    "#   -> market_data.csv\n",
    "#   -> macro_data.csv\n",
    "#   -> sec_filings.csv\n",
    "# ---------------------------------------------"
   ]
  },
  {
   "cell_type": "code",
   "execution_count": 2,
   "id": "0aa8fae4-49bc-4e3f-ae08-292d0a6a90ee",
   "metadata": {},
   "outputs": [],
   "source": [
    "# =====================================================\n",
    "# 1️⃣  SETUP & IMPORTS\n",
    "# ====================================================="
   ]
  },
  {
   "cell_type": "code",
   "execution_count": 5,
   "id": "561fc7d9-72d2-434d-b605-ccea9ca85d52",
   "metadata": {},
   "outputs": [],
   "source": [
    "import pandas as pd\n",
    "import numpy as np\n",
    "import requests\n",
    "import datetime as dt\n",
    "from yahooquery import Ticker\n",
    "import wbdata\n",
    "import time\n",
    "import os"
   ]
  },
  {
   "cell_type": "code",
   "execution_count": 6,
   "id": "8e003ddc-1a0a-4f37-a274-f0013cce2a48",
   "metadata": {},
   "outputs": [],
   "source": [
    "# Always display all columns\n",
    "pd.set_option('display.max_columns', None)"
   ]
  },
  {
   "cell_type": "code",
   "execution_count": 7,
   "id": "796a5a14-619a-4636-b6e7-4c1065ea189b",
   "metadata": {},
   "outputs": [],
   "source": [
    "# Define data folder\n",
    "os.makedirs(\"data_phase2\", exist_ok=True)"
   ]
  },
  {
   "cell_type": "code",
   "execution_count": 8,
   "id": "85521882-4592-4747-a284-843b09bb9747",
   "metadata": {},
   "outputs": [],
   "source": [
    "# =====================================================\n",
    "# 2️⃣  YAHOO FINANCE DATA\n",
    "# =====================================================\n",
    "# We'll pull price & fundamentals for a few tickers.\n",
    "# yahooquery makes it easy to fetch bulk market data."
   ]
  },
  {
   "cell_type": "code",
   "execution_count": 9,
   "id": "c62b263e-19ac-4f57-8b6e-943b43d35f1a",
   "metadata": {},
   "outputs": [],
   "source": [
    "tickers = [\"AAPL\", \"MSFT\", \"TSLA\", \"SPY\"]"
   ]
  },
  {
   "cell_type": "code",
   "execution_count": 10,
   "id": "e191f502-9a2c-427b-b4a7-d529330bbe5f",
   "metadata": {},
   "outputs": [
    {
     "name": "stdout",
     "output_type": "stream",
     "text": [
      "Fetching daily OHLCV data...\n"
     ]
    }
   ],
   "source": [
    "print(\"Fetching daily OHLCV data...\")\n",
    "# Ticker.history(period='2y') gives 2 years by default.\n",
    "data_yahoo = (\n",
    "    Ticker(tickers)\n",
    "    .history(period=\"2y\", interval=\"1d\", adj_ohlc=True)\n",
    "    .reset_index()\n",
    ")"
   ]
  },
  {
   "cell_type": "code",
   "execution_count": 11,
   "id": "1d2ea291-3cea-41d6-a1a1-767c1590ff2d",
   "metadata": {},
   "outputs": [],
   "source": [
    "# Clean and rename columns\n",
    "data_yahoo.rename(columns={'symbol': 'Ticker'}, inplace=True)"
   ]
  },
  {
   "cell_type": "code",
   "execution_count": 13,
   "id": "0e811a2e-55bb-45d2-a2d2-f1a529b58606",
   "metadata": {},
   "outputs": [
    {
     "name": "stdout",
     "output_type": "stream",
     "text": [
      "✅ Market data saved: (2008, 7) rows\n"
     ]
    }
   ],
   "source": [
    "# Keep essential columns only\n",
    "market_data = data_yahoo[['date', 'Ticker', 'open', 'high', 'low', 'close', 'volume']]\n",
    "market_data.to_csv(\"data_phase2/market_data.csv\", index=False)\n",
    "\n",
    "print(f\"✅ Market data saved: {market_data.shape} rows\")"
   ]
  },
  {
   "cell_type": "code",
   "execution_count": 14,
   "id": "be8f0bfd-73ff-4b63-bc06-02fbb024fd78",
   "metadata": {},
   "outputs": [],
   "source": [
    "# =====================================================\n",
    "# 3️⃣  WORLD BANK MACROECONOMIC DATA\n",
    "# =====================================================\n",
    "# We'll fetch GDP growth, inflation, and interest rate\n",
    "# for the US as macroeconomic context variables."
   ]
  },
  {
   "cell_type": "code",
   "execution_count": 21,
   "id": "3f71a551-316c-4103-9263-2aeb7db3104f",
   "metadata": {},
   "outputs": [
    {
     "name": "stdout",
     "output_type": "stream",
     "text": [
      "Fetching macroeconomic indicators from World Bank...\n"
     ]
    }
   ],
   "source": [
    "print(\"Fetching macroeconomic indicators from World Bank...\")\n",
    "\n",
    "# Define parameters\n",
    "country = \"US\"\n",
    "indicators = {\n",
    "    \"NY.GDP.MKTP.KD.ZG\": \"GDP_Growth\",\n",
    "    \"FP.CPI.TOTL.ZG\": \"Inflation\",\n",
    "    \"FR.INR.LEND\": \"Interest_Rate\",\n",
    "}"
   ]
  },
  {
   "cell_type": "code",
   "execution_count": 22,
   "id": "e2ab4605-43be-4f9a-881a-61695e19f686",
   "metadata": {},
   "outputs": [],
   "source": [
    "start_year = dt.date.today().year - 10\n",
    "end_year = dt.date.today().year\n",
    "\n",
    "all_frames = []"
   ]
  },
  {
   "cell_type": "code",
   "execution_count": 23,
   "id": "a6b0ed7c-ff99-4887-9be5-78f4f2ccdde4",
   "metadata": {},
   "outputs": [],
   "source": [
    "# Loop through indicators manually via REST API\n",
    "for code, name in indicators.items():\n",
    "    url = f\"https://api.worldbank.org/v2/country/{country}/indicator/{code}?format=json&per_page=1000\"\n",
    "    response = requests.get(url)\n",
    "    \n",
    "    if response.status_code != 200:\n",
    "        print(f\"❌ Failed to fetch {name}: {response.status_code}\")\n",
    "        continue\n",
    "\n",
    "    json_data = response.json()\n",
    "    if not json_data or len(json_data) < 2:\n",
    "        print(f\"⚠️ No data returned for {name}\")\n",
    "        continue\n",
    "\n",
    "    data = pd.DataFrame(json_data[1])[[\"date\", \"value\"]]\n",
    "    data[\"Indicator\"] = name\n",
    "    data = data.rename(columns={\"date\": \"Year\", \"value\": name})\n",
    "    data[\"Year\"] = data[\"Year\"].astype(int)\n",
    "    data = data[(data[\"Year\"] >= start_year) & (data[\"Year\"] <= end_year)]\n",
    "    all_frames.append(data[[\"Year\", name]])"
   ]
  },
  {
   "cell_type": "code",
   "execution_count": 24,
   "id": "55aba16d-8b35-4bd7-9c7a-8c8b919630cd",
   "metadata": {},
   "outputs": [
    {
     "name": "stdout",
     "output_type": "stream",
     "text": [
      "✅ Macro data saved: (10, 4) rows\n"
     ]
    }
   ],
   "source": [
    "# Merge all indicators on Year\n",
    "if all_frames:\n",
    "    macro_data = all_frames[0]\n",
    "    for df in all_frames[1:]:\n",
    "        macro_data = pd.merge(macro_data, df, on=\"Year\", how=\"outer\")\n",
    "\n",
    "    macro_data.sort_values(\"Year\", inplace=True)\n",
    "    macro_data.reset_index(drop=True, inplace=True)\n",
    "    macro_data.to_csv(\"data_phase2/macro_data.csv\", index=False)\n",
    "    print(f\"✅ Macro data saved: {macro_data.shape} rows\")\n",
    "else:\n",
    "    print(\"⚠️ No macroeconomic data could be fetched.\")"
   ]
  },
  {
   "cell_type": "code",
   "execution_count": 25,
   "id": "be1992e9-5abe-4702-9a87-578e2cb107e8",
   "metadata": {},
   "outputs": [],
   "source": [
    "# =====================================================\n",
    "# 4️⃣  SEC FILINGS DATA\n",
    "# =====================================================\n",
    "# We'll use the official SEC EDGAR API to pull basic\n",
    "# filing metadata (10-K, 10-Q) for selected tickers.\n",
    "# Note: SEC has rate limits — sleep between requests."
   ]
  },
  {
   "cell_type": "code",
   "execution_count": 26,
   "id": "f8f9b4c2-6675-42a2-a292-a7312f45eacd",
   "metadata": {},
   "outputs": [
    {
     "name": "stdout",
     "output_type": "stream",
     "text": [
      "Fetching SEC filings metadata...\n"
     ]
    }
   ],
   "source": [
    "print(\"Fetching SEC filings metadata...\")\n",
    "\n",
    "# Function to fetch SEC filings for a ticker\n",
    "def get_sec_filings(ticker, form_type=\"10-K\", limit=10):\n",
    "    \"\"\"\n",
    "    Fetch latest filings metadata from SEC EDGAR API.\n",
    "    Parameters:\n",
    "        ticker (str): Company ticker symbol.\n",
    "        form_type (str): Form type ('10-K', '10-Q', etc.)\n",
    "        limit (int): Number of filings to retrieve.\n",
    "    \"\"\"\n",
    "    url = f\"https://data.sec.gov/submissions/CIK0000320193.json\"\n",
    "    # In practice you’d map ticker→CIK (can use sec_api.com or manual file)\n",
    "    # We'll use Apple (AAPL, CIK0000320193) for demonstration.\n",
    "\n",
    "    headers = {\n",
    "        \"User-Agent\": \"PixelSkySolutions (rein@pixelsky.solutions)\"\n",
    "    }\n",
    "\n",
    "    response = requests.get(url, headers=headers)\n",
    "    if response.status_code != 200:\n",
    "        print(f\"❌ Failed {ticker}: {response.status_code}\")\n",
    "        return None\n",
    "\n",
    "    data = response.json()\n",
    "    filings = pd.DataFrame(data.get(\"filings\", {}).get(\"recent\", {}))\n",
    "    filings = filings.head(limit)\n",
    "    filings[\"ticker\"] = ticker\n",
    "    return filings[[\"ticker\", \"form\", \"filingDate\", \"reportDate\", \"accessionNumber\"]]"
   ]
  },
  {
   "cell_type": "code",
   "execution_count": 27,
   "id": "3c557c8d-e339-431d-a625-ab0771d3fa98",
   "metadata": {},
   "outputs": [
    {
     "name": "stdout",
     "output_type": "stream",
     "text": [
      "✅ SEC filings saved: (10, 5) rows\n"
     ]
    }
   ],
   "source": [
    "# Example for Apple (as EDGAR demo)\n",
    "sec_data = get_sec_filings(\"AAPL\")\n",
    "if sec_data is not None:\n",
    "    sec_data.to_csv(\"data_phase2/sec_filings.csv\", index=False)\n",
    "    print(f\"✅ SEC filings saved: {sec_data.shape} rows\")\n",
    "else:\n",
    "    print(\"⚠️ No SEC data fetched (demo mode).\")"
   ]
  },
  {
   "cell_type": "code",
   "execution_count": 28,
   "id": "e818407a-58d0-45f4-9a62-6dcc8a183162",
   "metadata": {},
   "outputs": [],
   "source": [
    "# =====================================================\n",
    "# 5️⃣  DATA CHECKPOINT SUMMARY\n",
    "# ====================================================="
   ]
  },
  {
   "cell_type": "code",
   "execution_count": 29,
   "id": "dea238bb-0af3-49c9-a16e-9fc5e5130bad",
   "metadata": {},
   "outputs": [
    {
     "name": "stdout",
     "output_type": "stream",
     "text": [
      "\n",
      "--- Data Summary ---\n",
      "Market data sample:\n",
      "         date Ticker        open        high         low       close    volume\n",
      "0  2023-10-11   AAPL  176.471483  178.105487  175.877312  178.055969  47551100\n",
      "1  2023-10-12   AAPL  178.323347  180.571317  177.303324  178.957138  56743100\n",
      "2  2023-10-13   AAPL  179.660252  180.165300  176.412069  177.115189  51427100\n",
      "3  2023-10-16   AAPL  175.035543  177.342944  174.797865  176.986435  52517000\n",
      "4  2023-10-17   AAPL  174.936521  176.689357  173.104475  175.431671  57549400 \n",
      "\n",
      "Macro data sample:\n",
      "   Year  GDP_Growth  Inflation  Interest_Rate\n",
      "0  2015    2.945550   0.118627       3.260000\n",
      "1  2016    1.819451   1.261583       3.511667\n",
      "2  2017    2.457622   2.130110       4.096667\n",
      "3  2018    2.966505   2.442583       4.904167\n",
      "4  2019    2.583825   1.812210       5.282500 \n",
      "\n",
      "SEC data sample:\n",
      "  ticker form  filingDate  reportDate       accessionNumber\n",
      "0   AAPL    4  2025-10-03  2025-10-01  0001214156-25-000011\n",
      "1   AAPL    4  2025-10-03  2025-10-01  0001767094-25-000009\n",
      "2   AAPL    4  2025-10-03  2025-10-01  0002078476-25-000005\n",
      "3   AAPL    4  2025-10-03  2025-10-01  0001462356-25-000010\n",
      "4   AAPL  144  2025-10-02              0001950047-25-007713\n",
      "\n",
      "All raw data stored in ./data_phase2/\n"
     ]
    }
   ],
   "source": [
    "print(\"\\n--- Data Summary ---\")\n",
    "print(\"Market data sample:\")\n",
    "print(market_data.head(), \"\\n\")\n",
    "print(\"Macro data sample:\")\n",
    "print(macro_data.head(), \"\\n\")\n",
    "print(\"SEC data sample:\")\n",
    "print(sec_data.head() if sec_data is not None else \"None\")\n",
    "\n",
    "print(\"\\nAll raw data stored in ./data_phase2/\")"
   ]
  },
  {
   "cell_type": "code",
   "execution_count": null,
   "id": "7e0329b2-37d8-4bc1-b0ff-d4168c1d59b9",
   "metadata": {},
   "outputs": [],
   "source": []
  }
 ],
 "metadata": {
  "kernelspec": {
   "display_name": "Python 3 (ipykernel)",
   "language": "python",
   "name": "python3"
  },
  "language_info": {
   "codemirror_mode": {
    "name": "ipython",
    "version": 3
   },
   "file_extension": ".py",
   "mimetype": "text/x-python",
   "name": "python",
   "nbconvert_exporter": "python",
   "pygments_lexer": "ipython3",
   "version": "3.11.1"
  }
 },
 "nbformat": 4,
 "nbformat_minor": 5
}
