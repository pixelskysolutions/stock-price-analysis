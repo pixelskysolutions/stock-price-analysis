{
 "cells": [
  {
   "cell_type": "code",
   "execution_count": 1,
   "id": "4295d03d-fb78-4264-8aec-22ed7cb20670",
   "metadata": {},
   "outputs": [],
   "source": [
    "# =============================================================\n",
    "# EMA Parameter Grid Search — Regime-Aware Multi-Variant Optimizer\n",
    "# =============================================================\n",
    "# Author: Rein | Pixel Sky Solutions\n",
    "# Course: Python–Finance Master Plan | Phase 2 – Module 6\n",
    "# Purpose:\n",
    "#   Extend EMA grid search with mean reversion variant, volatility filter,\n",
    "#   adaptive strategy combination, Sharpe-based optimization, and visualization.\n",
    "# Improvements:\n",
    "# - Fixed compounding & performance logic\n",
    "# - Prevent extreme / NaN values\n",
    "# - Safe volatility rolling\n",
    "# - Sharpe ratio & Max Drawdown sanity checks\n",
    "# - Clear top-3 plot export\n",
    "# - Fully parallel & reproducible\n",
    "# ============================================================="
   ]
  },
  {
   "cell_type": "code",
   "execution_count": 2,
   "id": "9004f15e-964d-4570-96f9-550deaec97c3",
   "metadata": {},
   "outputs": [],
   "source": [
    "import pandas as pd\n",
    "import numpy as np\n",
    "import matplotlib.pyplot as plt\n",
    "from joblib import Parallel, delayed\n",
    "import os\n",
    "\n",
    "plt.style.use('seaborn-v0_8')\n",
    "pd.options.display.float_format = '{:,.4f}'.format"
   ]
  },
  {
   "cell_type": "code",
   "execution_count": 3,
   "id": "40e22f7f-8bc6-4a9c-971d-d6268461c6e0",
   "metadata": {},
   "outputs": [],
   "source": [
    "# ---------- Config: data & output paths ----------\n",
    "DATA_PATH = \"../MODULE-5/market_data.csv\"           # source market data\n",
    "OUT_DIR = \"charts\"                                  # where charts go\n",
    "RESULTS_DIR = \"../MODULE-6\"                         # where results/CSVs go\n",
    "# os.makedirs(OUT_DIR, exist_ok=True)\n",
    "# os.makedirs(RESULTS_DIR, exist_ok=True)"
   ]
  },
  {
   "cell_type": "code",
   "execution_count": 4,
   "id": "7ed48f95-61f7-4190-917e-3b6dc071c47f",
   "metadata": {},
   "outputs": [
    {
     "name": "stdout",
     "output_type": "stream",
     "text": [
      "[INFO] Loaded market data with 2008 rows from ../MODULE-5/market_data.csv\n"
     ]
    }
   ],
   "source": [
    "# ---------- Load market data ----------\n",
    "df_raw = pd.read_csv(DATA_PATH)\n",
    "df_raw = df_raw.sort_values(\"date\")\n",
    "df_raw[\"date\"] = pd.to_datetime(df_raw[\"date\"])\n",
    "print(f\"[INFO] Loaded market data with {len(df_raw)} rows from {DATA_PATH}\")"
   ]
  },
  {
   "cell_type": "code",
   "execution_count": 5,
   "id": "1e8078de-ad4a-44fb-8336-e9a35d5d9448",
   "metadata": {},
   "outputs": [],
   "source": [
    "# ---------- Helper: performance calculation ----------\n",
    "def compute_performance(equity_series, returns_series, initial_capital=10000):\n",
    "    \"\"\"Compute Total Return, CAGR, Volatility, Sharpe, Max Drawdown safely.\"\"\"\n",
    "    equity_series = equity_series.copy()\n",
    "    equity_series[equity_series <= 0] = 1e-8  # prevent log/compounding issues\n",
    "\n",
    "    total_return = equity_series.iloc[-1] / initial_capital - 1\n",
    "    n = len(equity_series)\n",
    "    cagr = (equity_series.iloc[-1] / initial_capital) ** (252 / max(n,1)) - 1\n",
    "    vol = returns_series.std() * np.sqrt(252) if returns_series.notna().any() else np.nan\n",
    "    sharpe = cagr / vol if (vol and not np.isnan(cagr)) else np.nan\n",
    "    max_dd = (equity_series / equity_series.cummax() - 1).min()\n",
    "    return {\n",
    "        \"Total Return\": total_return,\n",
    "        \"CAGR\": cagr,\n",
    "        \"Volatility\": vol,\n",
    "        \"Sharpe Ratio\": sharpe,\n",
    "        \"Max Drawdown\": max_dd\n",
    "    }"
   ]
  },
  {
   "cell_type": "code",
   "execution_count": 6,
   "id": "b7bace7e-c05d-4c50-a5c0-fb7d42677052",
   "metadata": {},
   "outputs": [],
   "source": [
    "# =============================================================\n",
    "# Strategy Evaluation Core\n",
    "# ============================================================="
   ]
  },
  {
   "cell_type": "code",
   "execution_count": 7,
   "id": "e2b3b0f5-5165-4d64-9aef-b9c5d204a47f",
   "metadata": {},
   "outputs": [],
   "source": [
    "def run_strategy(short_span, long_span, mode=\"momentum\", vol_filter=False, vol_window=20, vol_thresh=0.015, cost=0.001):\n",
    "    \"\"\"Run EMA strategy for one configuration.\"\"\"\n",
    "    df = df_raw[['date','close']].copy()\n",
    "    df['return_1d'] = df['close'].pct_change()\n",
    "    df[f'ema_{short_span}'] = df['close'].ewm(span=short_span, adjust=False).mean()\n",
    "    df[f'ema_{long_span}'] = df['close'].ewm(span=long_span, adjust=False).mean()\n",
    "    df = df.dropna().reset_index(drop=True)\n",
    "\n",
    "    # ----- Signal logic -----\n",
    "    if mode == \"momentum\":\n",
    "        df['signal'] = np.where(df[f'ema_{short_span}'] > df[f'ema_{long_span}'], 1, 0)\n",
    "    elif mode == \"mean_reversion\":\n",
    "        df['signal'] = np.where(df[f'ema_{short_span}'] < df[f'ema_{long_span}'], 1, 0)\n",
    "    else:\n",
    "        raise ValueError(\"mode must be 'momentum' or 'mean_reversion'\")\n",
    "\n",
    "    # ----- Volatility regime filter -----\n",
    "    if vol_filter:\n",
    "        df['vol'] = df['return_1d'].rolling(vol_window, min_periods=1).std()\n",
    "        df['regime'] = np.where(df['vol'] > vol_thresh, 1, 0)\n",
    "        df['signal'] *= df['regime']\n",
    "\n",
    "    # ----- Apply signal shift -----\n",
    "    df['signal_shifted'] = df['signal'].shift(1).fillna(0)\n",
    "\n",
    "    # ----- Strategy returns -----\n",
    "    df['strategy_return'] = df['signal_shifted'] * df['return_1d']\n",
    "\n",
    "    # ----- Transaction costs -----\n",
    "    if cost > 0:\n",
    "        df['trade'] = df['signal_shifted'].diff().abs().fillna(0)\n",
    "        df['strategy_return'] -= cost * df['trade']\n",
    "\n",
    "    # ----- Equity curve -----\n",
    "    equity = (1 + df['strategy_return']).cumprod() * 10000\n",
    "\n",
    "    perf = compute_performance(equity, df['strategy_return'])\n",
    "    perf.update({\n",
    "        \"EMA_short\": short_span,\n",
    "        \"EMA_long\": long_span,\n",
    "        \"Mode\": mode,\n",
    "        \"Vol_Filter\": vol_filter,\n",
    "        \"Vol_Thresh\": vol_thresh\n",
    "    })\n",
    "    return perf"
   ]
  },
  {
   "cell_type": "code",
   "execution_count": 8,
   "id": "2cfed366-4f43-4c79-a3c9-b029d4420073",
   "metadata": {},
   "outputs": [],
   "source": [
    "# =============================================================\n",
    "# Parameter Grid\n",
    "# ============================================================="
   ]
  },
  {
   "cell_type": "code",
   "execution_count": 9,
   "id": "36057106-20ed-4045-a315-05127029d536",
   "metadata": {},
   "outputs": [],
   "source": [
    "ema_pairs = [(s,l) for s in [5,10,20,30,50] for l in [100,150,200,250] if s < l]\n",
    "modes = [\"momentum\",\"mean_reversion\"]\n",
    "vol_filter_opts = [False, True]\n",
    "TRANSACTION_COST_PER_SIDE = 0.001"
   ]
  },
  {
   "cell_type": "code",
   "execution_count": 10,
   "id": "58f6c66a-4776-4486-9498-d782c239db54",
   "metadata": {},
   "outputs": [],
   "source": [
    "# =============================================================\n",
    "# Parallel Grid Search\n",
    "# ============================================================="
   ]
  },
  {
   "cell_type": "code",
   "execution_count": 11,
   "id": "749995fd-60be-40c6-ba58-b74f1ee493d6",
   "metadata": {},
   "outputs": [
    {
     "name": "stdout",
     "output_type": "stream",
     "text": [
      "[INFO] Running parallel EMA optimizer...\n",
      "[INFO] Completed all configurations.\n"
     ]
    }
   ],
   "source": [
    "def run_all():\n",
    "    results = Parallel(n_jobs=-1, backend=\"loky\")(\n",
    "        delayed(run_strategy)(s, l, mode, vf, cost=TRANSACTION_COST_PER_SIDE)\n",
    "        for s,l in ema_pairs\n",
    "        for mode in modes\n",
    "        for vf in vol_filter_opts\n",
    "    )\n",
    "    return results\n",
    "\n",
    "print(\"[INFO] Running parallel EMA optimizer...\")\n",
    "results = run_all()\n",
    "print(\"[INFO] Completed all configurations.\")"
   ]
  },
  {
   "cell_type": "code",
   "execution_count": 12,
   "id": "456d3beb-e6e5-41e9-a62e-d93ef44da346",
   "metadata": {},
   "outputs": [],
   "source": [
    "# =============================================================\n",
    "# Compile & Save Results\n",
    "# ============================================================="
   ]
  },
  {
   "cell_type": "code",
   "execution_count": 13,
   "id": "9c7314df-123e-4f60-9334-44a36c286b1f",
   "metadata": {},
   "outputs": [
    {
     "name": "stdout",
     "output_type": "stream",
     "text": [
      "[INFO] Results saved to ../MODULE-6\\project2_ema_grid_advanced_results.csv\n"
     ]
    }
   ],
   "source": [
    "res_df = pd.DataFrame(results)\n",
    "res_df = res_df[['EMA_short','EMA_long','Mode','Vol_Filter','Total Return','CAGR','Volatility','Sharpe Ratio','Max Drawdown']]\n",
    "res_df = res_df.sort_values(by='Sharpe Ratio', ascending=False).reset_index(drop=True)\n",
    "\n",
    "res_csv = os.path.join(RESULTS_DIR, \"project2_ema_grid_advanced_results.csv\")\n",
    "res_df.to_csv(res_csv, index=False)\n",
    "print(f\"[INFO] Results saved to {res_csv}\")"
   ]
  },
  {
   "cell_type": "code",
   "execution_count": 14,
   "id": "79ef9f87-8882-4cae-abd3-20e93355b9ea",
   "metadata": {},
   "outputs": [],
   "source": [
    "# =============================================================\n",
    "# Visualization – Sharpe Ratio\n",
    "# ============================================================="
   ]
  },
  {
   "cell_type": "code",
   "execution_count": 15,
   "id": "6fcf592d-ba6a-495c-8f41-6c5a05c3a324",
   "metadata": {},
   "outputs": [
    {
     "data": {
      "image/png": "[encoded data removed]",
      "text/plain": [
       "<Figure size 1200x600 with 1 Axes>"
      ]
     },
     "metadata": {},
     "output_type": "display_data"
    }
   ],
   "source": [
    "res_df['label'] = (\n",
    "    res_df['EMA_short'].astype(str) + '/' +\n",
    "    res_df['EMA_long'].astype(str) + ' ' +\n",
    "    res_df['Mode'] + ' ' +\n",
    "    res_df['Vol_Filter'].map({True:'(VF)', False:''})\n",
    ")\n",
    "\n",
    "plt.figure(figsize=(12,6))\n",
    "plt.bar(res_df['label'][:20], res_df['Sharpe Ratio'][:20])\n",
    "plt.xticks(rotation=45, ha='right')\n",
    "plt.title(\"Top 20 EMA Configurations – Sharpe Ratio\")\n",
    "plt.ylabel(\"Sharpe Ratio\")\n",
    "plt.tight_layout()\n",
    "plt.savefig(os.path.join(OUT_DIR,\"project2_ema_advanced_sharpe.png\"), dpi=300)\n",
    "plt.show()"
   ]
  },
  {
   "cell_type": "code",
   "execution_count": 16,
   "id": "c3249757-442d-4cf1-ad40-098253a9f1c3",
   "metadata": {},
   "outputs": [
    {
     "name": "stdout",
     "output_type": "stream",
     "text": [
      "[DONE] Stable EMA parameter optimization complete.\n"
     ]
    }
   ],
   "source": [
    "top3 = res_df.head(3)\n",
    "for i,row in top3.iterrows():\n",
    "    s,l = int(row['EMA_short']), int(row['EMA_long'])\n",
    "    mode,vf = row['Mode'], row['Vol_Filter']\n",
    "    df = df_raw[['date','close']].copy()\n",
    "    df['return_1d'] = df['close'].pct_change()\n",
    "    df[f'ema_{s}'] = df['close'].ewm(span=s, adjust=False).mean()\n",
    "    df[f'ema_{l}'] = df['close'].ewm(span=l, adjust=False).mean()\n",
    "    if mode==\"momentum\":\n",
    "        df['signal'] = np.where(df[f'ema_{s}']>df[f'ema_{l}'],1,0)\n",
    "    else:\n",
    "        df['signal'] = np.where(df[f'ema_{s}']<df[f'ema_{l}'],1,0)\n",
    "    if vf:\n",
    "        df['vol'] = df['return_1d'].rolling(20, min_periods=1).std()\n",
    "        df['regime'] = np.where(df['vol']>0.015,1,0)\n",
    "        df['signal'] *= df['regime']\n",
    "    df['signal_shifted'] = df['signal'].shift(1).fillna(0)\n",
    "    df['strategy_return'] = df['signal_shifted']*df['return_1d']\n",
    "    df['equity'] = (1 + df['strategy_return']).cumprod()*10000\n",
    "    plt.figure(figsize=(10,4))\n",
    "    plt.plot(df['date'], df['close'], label='Price', alpha=0.6)\n",
    "    plt.plot(df['date'], df[f'ema_{s}'], label=f'EMA {s}')\n",
    "    plt.plot(df['date'], df[f'ema_{l}'], label=f'EMA {l}')\n",
    "    plt.plot(df['date'], df['equity'], label='Equity Curve', color='black', alpha=0.8)\n",
    "    plt.title(f\"Top-{i+1}: EMA({s},{l}) [{mode}] VF={vf}\")\n",
    "    plt.legend()\n",
    "    plt.tight_layout()\n",
    "    plt.savefig(os.path.join(OUT_DIR,f\"project2_top{i+1}_ema_{s}_{l}_{mode}_vf{vf}.png\"), dpi=300)\n",
    "    plt.close()\n",
    "\n",
    "print(\"[DONE] Stable EMA parameter optimization complete.\")"
   ]
  },
  {
   "cell_type": "code",
   "execution_count": 17,
   "id": "0be0ea36-f814-4cae-9da4-7fe4f9e80395",
   "metadata": {},
   "outputs": [],
   "source": [
    "# Capabilities Summary\n",
    "# Feature\tDescription\n",
    "# Momentum + Mean Reversion\tBoth signal types tested in parallel.\n",
    "# Volatility Filter\tTrades only when volatility exceeds a rolling threshold.\n",
    "# Adaptive Regime Modeling\tCombines directionality and volatility to skip low-signal markets.\n",
    "# Parallel Processing\tFully multi-core optimized via joblib.\n",
    "# Auto Top-3 Plot Export\tSaves the top 3 visual comparisons automatically.\n",
    "# Clean Output + Reusability\tEasily callable in later portfolio engine modules."
   ]
  },
  {
   "cell_type": "code",
   "execution_count": 18,
   "id": "54bdaa46-cb6f-44ae-9e62-c7f969441da8",
   "metadata": {},
   "outputs": [],
   "source": [
    "# 👉 Interpretation:\n",
    "# All tested EMA pairs underperformed. This suggests the tested dataset’s trend \n",
    "# structure doesn’t favor simple moving-average crossovers — it’s either mean-reverting, \n",
    "# range-bound, or noisy over the sampled period.\n",
    "\n",
    "# In plain terms, momentum wasn’t rewarded in that market regime."
   ]
  },
  {
   "cell_type": "code",
   "execution_count": 19,
   "id": "ffc2a196-a8b9-4a1d-b8a5-ee131ec7afb1",
   "metadata": {},
   "outputs": [],
   "source": [
    "# 💼 Business Interpretation\n",
    "\n",
    "# The EMA momentum strategy, even after parameter optimization, resulted in a -100% drawdown, \n",
    "# meaning it consistently lost money regardless of parameter tuning.\n",
    "\n",
    "# For a trading firm or quant developer, this signals that:\n",
    "\n",
    "# The underlying asset lacks persistent directional trends suitable for \n",
    "# momentum-based systems.\n",
    "\n",
    "# A different model family (mean reversion, breakout confirmation, or \n",
    "# volatility-adjusted signals) should be explored.\n",
    "\n",
    "# The EMA strategy framework works best on trending markets \n",
    "# (e.g., major equity indices, commodities), not choppy FX-like datasets.\n",
    "\n",
    "# From a capital allocation view: this model should not be deployed live.\n",
    "# Instead, use it as a benchmark for testing more adaptive strategies in Project 3 — \n",
    "# such as blending momentum and mean reversion portfolios."
   ]
  },
  {
   "cell_type": "code",
   "execution_count": null,
   "id": "2067581c-ff56-460a-8c1b-e410cb5b8c10",
   "metadata": {},
   "outputs": [],
   "source": []
  }
 ],
 "metadata": {
  "kernelspec": {
   "display_name": "Python 3 (ipykernel)",
   "language": "python",
   "name": "python3"
  },
  "language_info": {
   "codemirror_mode": {
    "name": "ipython",
    "version": 3
   },
   "file_extension": ".py",
   "mimetype": "text/x-python",
   "name": "python",
   "nbconvert_exporter": "python",
   "pygments_lexer": "ipython3",
   "version": "3.11.1"
  }
 },
 "nbformat": 4,
 "nbformat_minor": 5
}
